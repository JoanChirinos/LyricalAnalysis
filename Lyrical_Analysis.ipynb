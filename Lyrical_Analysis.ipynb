{
 "cells": [
  {
   "cell_type": "markdown",
   "metadata": {
    "id": "RF2KXg6MN9xS"
   },
   "source": [
    "# An Analysis of Lyrical Diversity in Some Groups of Music Artists\n",
    "### by Joan Chirinos\n",
    "\n",
    "We will be ananlyzing the diversity of lyrics, defined by how many different words an artist uses compared to how many total words that artist uses in their body of work.\n",
    "\n",
    "We will be focusing on a couple of different groups:\n",
    "* top artists\n",
    "* some of my favorite artists\n",
    "* some of Siena Larrick's favorite artists\n",
    "* a spread of pop artists from those with the lowest lyrical diversity to those with the highest lyrical diversity\n",
    "* a spread of all artists, from those with the lowest lyrical diversity to those with the highest lyrical diversity\n",
    "\n",
    "For the last group stated, we will be doing an analysis of which musical genre, if any, is generally most lyrically diverse.\n",
    "\n",
    "We are going to use the Genius API to find song data, and we're going to use Selenium to scrape the lyrics off of the Genius webpage.\n",
    "\n",
    "We are also going to use the Last.FM API to find top artists in an easy an managable way, as they sort artists by tags and keep track of tags and whatnot."
   ]
  },
  {
   "cell_type": "markdown",
   "metadata": {
    "id": "9A33szoTRTkg"
   },
   "source": [
    "## Necessary Tools\n",
    "\n",
    "We first need to install some necessary tools, including a webdriver, a webdriver manager, and selenium\n"
   ]
  },
  {
   "cell_type": "code",
   "execution_count": 15,
   "metadata": {
    "colab": {
     "base_uri": "https://localhost:8080/"
    },
    "id": "TcjcTr5TN6MW",
    "outputId": "7db34362-0f38-41bc-831e-f7ddacb7882a"
   },
   "outputs": [
    {
     "name": "stdout",
     "output_type": "stream",
     "text": [
      "Requirement already satisfied: selenium in ./venv/lib/python3.10/site-packages (4.8.0)\n",
      "Requirement already satisfied: urllib3~=1.26 in ./venv/lib/python3.10/site-packages (from urllib3[socks]~=1.26->selenium) (1.26.14)\n",
      "Requirement already satisfied: trio~=0.17 in ./venv/lib/python3.10/site-packages (from selenium) (0.22.0)\n",
      "Requirement already satisfied: trio-websocket~=0.9 in ./venv/lib/python3.10/site-packages (from selenium) (0.9.2)\n",
      "Requirement already satisfied: certifi>=2021.10.8 in ./venv/lib/python3.10/site-packages (from selenium) (2022.12.7)\n",
      "Requirement already satisfied: attrs>=19.2.0 in ./venv/lib/python3.10/site-packages (from trio~=0.17->selenium) (22.2.0)\n",
      "Requirement already satisfied: sortedcontainers in ./venv/lib/python3.10/site-packages (from trio~=0.17->selenium) (2.4.0)\n",
      "Requirement already satisfied: async-generator>=1.9 in ./venv/lib/python3.10/site-packages (from trio~=0.17->selenium) (1.10)\n",
      "Requirement already satisfied: idna in ./venv/lib/python3.10/site-packages (from trio~=0.17->selenium) (3.4)\n",
      "Requirement already satisfied: outcome in ./venv/lib/python3.10/site-packages (from trio~=0.17->selenium) (1.2.0)\n",
      "Requirement already satisfied: sniffio in ./venv/lib/python3.10/site-packages (from trio~=0.17->selenium) (1.3.0)\n",
      "Requirement already satisfied: exceptiongroup>=1.0.0rc9 in ./venv/lib/python3.10/site-packages (from trio~=0.17->selenium) (1.1.0)\n",
      "Requirement already satisfied: wsproto>=0.14 in ./venv/lib/python3.10/site-packages (from trio-websocket~=0.9->selenium) (1.2.0)\n",
      "Requirement already satisfied: PySocks!=1.5.7,<2.0,>=1.5.6 in ./venv/lib/python3.10/site-packages (from urllib3[socks]~=1.26->selenium) (1.7.1)\n",
      "Requirement already satisfied: h11<1,>=0.9.0 in ./venv/lib/python3.10/site-packages (from wsproto>=0.14->trio-websocket~=0.9->selenium) (0.14.0)\n",
      "Note: you may need to restart the kernel to use updated packages.\n",
      "Requirement already satisfied: webdriver_manager in ./venv/lib/python3.10/site-packages (4.0.1)\n",
      "Requirement already satisfied: requests in ./venv/lib/python3.10/site-packages (from webdriver_manager) (2.31.0)\n",
      "Requirement already satisfied: python-dotenv in ./venv/lib/python3.10/site-packages (from webdriver_manager) (0.21.1)\n",
      "Requirement already satisfied: packaging in ./venv/lib/python3.10/site-packages (from webdriver_manager) (23.0)\n",
      "Requirement already satisfied: charset-normalizer<4,>=2 in ./venv/lib/python3.10/site-packages (from requests->webdriver_manager) (3.0.1)\n",
      "Requirement already satisfied: idna<4,>=2.5 in ./venv/lib/python3.10/site-packages (from requests->webdriver_manager) (3.4)\n",
      "Requirement already satisfied: urllib3<3,>=1.21.1 in ./venv/lib/python3.10/site-packages (from requests->webdriver_manager) (1.26.14)\n",
      "Requirement already satisfied: certifi>=2017.4.17 in ./venv/lib/python3.10/site-packages (from requests->webdriver_manager) (2022.12.7)\n",
      "Note: you may need to restart the kernel to use updated packages.\n"
     ]
    }
   ],
   "source": [
    "# # Our Ubuntu package installs\n",
    "# !apt update\n",
    "# !apt install chromium-chromedriver\n",
    "# !cp /usr/lib/chromium-browser/chromedriver /usr/bin\n",
    "\n",
    "# Our MacOS package installs\n",
    "# TODO?\n",
    "\n",
    "# Our PIP package installs\n",
    "%pip install selenium\n",
    "%pip install webdriver_manager"
   ]
  },
  {
   "cell_type": "markdown",
   "metadata": {
    "id": "3Q7u1EAKVEmQ"
   },
   "source": [
    "Now we can get started!\n",
    "\n",
    "Let's import our packages into Python to make sure they're all set up."
   ]
  },
  {
   "cell_type": "code",
   "execution_count": 16,
   "metadata": {
    "id": "xMaI1kZMVyoX"
   },
   "outputs": [],
   "source": [
    "# from selenium import webdriver\n",
    "# from selenium.webdriver.chrome.service import Service as ChromiumService\n",
    "# from webdriver_manager.chrome import ChromeDriverManager\n",
    "# from webdriver_manager.core.os_manager import ChromeType\n",
    "\n",
    "from selenium import webdriver\n",
    "from selenium.webdriver.chrome.service import Service as ChromeService\n",
    "from webdriver_manager.chrome import ChromeDriverManager\n",
    "from selenium.common.exceptions import TimeoutException\n",
    "\n",
    "from selenium.webdriver.common.by import By\n",
    "\n",
    "from unidecode import unidecode\n",
    "\n",
    "import requests\n",
    "import json\n",
    "import os\n",
    "# import pprint"
   ]
  },
  {
   "cell_type": "markdown",
   "metadata": {
    "id": "HeFAJhg4WrfD"
   },
   "source": [
    "Now we can put in our access token and define our default header for all things Genius"
   ]
  },
  {
   "cell_type": "code",
   "execution_count": 17,
   "metadata": {
    "id": "FbQoqh28W8oJ"
   },
   "outputs": [],
   "source": [
    "ACCESS_TOKEN = 'sk3T-7f0Bl8p6V2vCRB6zdQDWeE7AEF6nsY6sIs4rasG64E6IAexSoQ7nv7hchkA'\n",
    "DEFAULT_HEADERS = {'Authorization': f'Bearer {ACCESS_TOKEN}'}"
   ]
  },
  {
   "cell_type": "markdown",
   "metadata": {
    "id": "D80nfsb9dCNd"
   },
   "source": [
    "Let's define a path variable to use as our root directory for any files we create"
   ]
  },
  {
   "cell_type": "code",
   "execution_count": 18,
   "metadata": {
    "id": "065JDbdfdPEV"
   },
   "outputs": [],
   "source": [
    "ROOT_PATH = 'files/'"
   ]
  },
  {
   "cell_type": "markdown",
   "metadata": {},
   "source": [
    "## Building a Dictionary\n",
    "\n",
    "Due to the ever-changing nature of language, and the ever-present human error in the lyrics on Genius (no shade to Genius, they do a great job), I would like to build a dictionary of valid words.\n",
    "\n",
    "This also allows us to count Spanish words as words (if we decide to do so, since as of now, we do not count Spanish words), as well as not double-count words such as \"yuh\" and \"yuhh\" as two separate words.\n",
    "\n",
    "We will build this dictionary as a Python dictionary, where the value for the key `word` is `1` if that's a unique/root word, and the value for key `word` is `parent` if the word is the same as another.\n",
    "\n",
    "For example, `{'yuh': 1, 'yuhh': 'yuh'}`.\n",
    "\n",
    "This dictionary will be build at the same time as we collect data for singers, so it makes it a somewhat active process.\n",
    "\n",
    "I'll likely add a feature where, if you're sure you got most of the possible words and variations, you can toggle something to let it run unsupervised. Then, it should make a list of problematic words and who sang them, to be reviewed later."
   ]
  },
  {
   "cell_type": "code",
   "execution_count": 77,
   "metadata": {},
   "outputs": [],
   "source": [
    "# Let's begin by importing a dictionary of English words. This is the same dictionary that will be built upon.\n",
    "\n",
    "RUN_THIS = False\n",
    "\n",
    "if RUN_THIS:\n",
    "    ENGLISH = None\n",
    "\n",
    "    with open('words_dictionary.json') as f:\n",
    "        ENGLISH = json.load(f)\n",
    "\n",
    "    # Now, we actually want every word to point to itself\n",
    "    for word in ENGLISH:\n",
    "        ascii_word = unidecode(word)\n",
    "        ENGLISH[ascii_word] = ascii_word\n",
    "\n",
    "    with open('our_words.json', 'w+') as f:\n",
    "        json.dump(ENGLISH, f, indent=2)\n",
    "    \n",
    "    with open('not_words.json', 'w+') as f:\n",
    "        json.dump({'1': '1'}, f, indent=2)"
   ]
  },
  {
   "cell_type": "code",
   "execution_count": 20,
   "metadata": {},
   "outputs": [],
   "source": [
    "def add_word_to_dictionary(word, point_to, filename='our_words.json'):\n",
    "    true_word = unidecode(word)\n",
    "    true_point_to = unidecode(point_to)\n",
    "    ENGLISH[true_word] = true_point_to\n",
    "    with open(filename, 'w+') as f:\n",
    "        json.dump(ENGLISH, f, indent=2)\n",
    "    return ENGLISH"
   ]
  },
  {
   "cell_type": "markdown",
   "metadata": {},
   "source": [
    "We're also going to create a set of all Spanish words in order to remove them from lyrics. This is so we can compare counts of mostly English words, since the artists we're looking at mostly sing in English, followed by Spanish.\n",
    "\n",
    "This was the simplest solution, and if it's not effective, I'll look for others."
   ]
  },
  {
   "cell_type": "code",
   "execution_count": 21,
   "metadata": {},
   "outputs": [],
   "source": [
    "SPANISH_SET = None\n",
    "\n",
    "with open('spanish.json', 'r') as spanish:\n",
    "    SPANISH_SET = set(json.load(spanish))"
   ]
  },
  {
   "cell_type": "markdown",
   "metadata": {
    "id": "IdcQX_C_W_HJ"
   },
   "source": [
    "## Genius Functions\n",
    "\n",
    "We will begin by defining the functions that will look for artists and songs using the Genius API"
   ]
  },
  {
   "cell_type": "markdown",
   "metadata": {
    "id": "hp9SV4OGXL-Z"
   },
   "source": [
    "### search(search_term)\n",
    "\n",
    "Take a search term search_term and return the response from http://api.genius.com/search as a dictionary."
   ]
  },
  {
   "cell_type": "code",
   "execution_count": 22,
   "metadata": {
    "id": "gZyPDg_HXJ3J"
   },
   "outputs": [],
   "source": [
    "def search(search_term):\n",
    "    payload = {'q': search_term}\n",
    "    r = requests.get('http://api.genius.com/search',\n",
    "                     params=payload,\n",
    "                     headers=DEFAULT_HEADERS)\n",
    "    return r.json()"
   ]
  },
  {
   "cell_type": "markdown",
   "metadata": {
    "id": "oXwLh2UhYC7-"
   },
   "source": [
    "### get_artist_id(artist_name)\n",
    "\n",
    "Take an artist name and return their Genius-assigned id. Creates JSON file for artist in `ROOT_PATH` directory."
   ]
  },
  {
   "cell_type": "code",
   "execution_count": 23,
   "metadata": {
    "id": "D78HwxVyYODo"
   },
   "outputs": [],
   "source": [
    "def _get_artist_id(artist_name):\n",
    "    r = search(artist_name)\n",
    "    for i in range(10):\n",
    "        if r['response']['hits'][i]['result']['primary_artist']['name'].casefold() == artist_name.casefold():\n",
    "            return r['response']['hits'][i]['result']['primary_artist']['id']"
   ]
  },
  {
   "cell_type": "code",
   "execution_count": 24,
   "metadata": {},
   "outputs": [],
   "source": [
    "def get_artist_id(artist_name):\n",
    "    print(f'Getting id for artist {artist_name}')\n",
    "    try:\n",
    "        with open(os.path.join(ROOT_PATH, 'name_to_id.json')) as f:\n",
    "            name_to_id = json.load(f)\n",
    "    except FileNotFoundError:\n",
    "        name_to_id = {}\n",
    "    finally:\n",
    "        if artist_name in name_to_id:\n",
    "            print(\n",
    "                f'Found id for {artist_name} in {os.path.join(ROOT_PATH, \"name_to_id.json\")}. Returning...')\n",
    "            return name_to_id[artist_name]\n",
    "        else:  # if artist_name not in name_to_id:\n",
    "            print(\n",
    "                f'Did not find id for {artist_name} in {os.path.join(ROOT_PATH, \"name_to_id.json\")}. Pulling from Genius...')\n",
    "            artist_id = _get_artist_id(artist_name)\n",
    "            name_to_id[artist_name] = artist_id\n",
    "            with open(os.path.join(ROOT_PATH, 'name_to_id.json'), 'w+') as f:\n",
    "                json.dump(name_to_id, f, indent=2)\n",
    "                print(\n",
    "                    f'Added artist name and id to {os.path.join(ROOT_PATH, \"name_to_id.json\")}')\n",
    "            try:\n",
    "                with open(os.path.join(ROOT_PATH, f'{artist_id}.json')) as f:\n",
    "                    artist = json.load(f)\n",
    "            except FileNotFoundError:\n",
    "                print(\n",
    "                    f'Artist JSON does not exist for {artist_name}. Creating {os.path.join(ROOT_PATH, f\"{artist_id}.json\")}...')\n",
    "                artist = {}\n",
    "                artist['name'] = artist_name\n",
    "                artist['id'] = artist_id\n",
    "                with open(os.path.join(ROOT_PATH, f'{artist_id}.json'), 'w+') as f:\n",
    "                    print(\n",
    "                        f'Created artist JSON at {os.path.join(ROOT_PATH, f\"{artist_id}.json\")}')\n",
    "                    json.dump(artist, f, indent=2)\n",
    "            else:\n",
    "                print(\n",
    "                    f'Artist JSON exists for {artist_name} at {os.path.join(ROOT_PATH, f\"{artist_id}.json\")}')\n",
    "\n",
    "    return artist_id"
   ]
  },
  {
   "cell_type": "code",
   "execution_count": 25,
   "metadata": {},
   "outputs": [
    {
     "name": "stdout",
     "output_type": "stream",
     "text": [
      "Getting id for artist Snail Mail\n",
      "Did not find id for Snail Mail in files/name_to_id.json. Pulling from Genius...\n"
     ]
    },
    {
     "name": "stdout",
     "output_type": "stream",
     "text": [
      "Added artist name and id to files/name_to_id.json\n",
      "Artist JSON does not exist for Snail Mail. Creating files/1007900.json...\n",
      "Created artist JSON at files/1007900.json\n"
     ]
    },
    {
     "data": {
      "text/plain": [
       "1007900"
      ]
     },
     "execution_count": 25,
     "metadata": {},
     "output_type": "execute_result"
    }
   ],
   "source": [
    "get_artist_id('Snail Mail')"
   ]
  },
  {
   "cell_type": "markdown",
   "metadata": {
    "id": "Yw1XRD_sYP8U"
   },
   "source": [
    "### get_artist_songs(artist_name)\n",
    "\n",
    "Take an artist name and return a list of all of the songs where they're the primary artist, in the form `{song_id: {name: song_name, url: song_url}, ...}`. Also writes song info to artist's JSON file."
   ]
  },
  {
   "cell_type": "code",
   "execution_count": 79,
   "metadata": {
    "id": "y7MatXyZY8qW"
   },
   "outputs": [],
   "source": [
    "def _get_artist_songs(artist_id):\n",
    "    # songs = [[song_name, song_id, song_url], ...]\n",
    "    songs = {}\n",
    "\n",
    "    # We're assuming artists have at least one page of music (one song)\n",
    "    next_page = '1'\n",
    "    while next_page is not None:\n",
    "        payload = {'[per_page': '50', 'page': next_page, 'sort': 'popularity'}\n",
    "        r = requests.get(f'http://api.genius.com/artists/{artist_id}/songs',\n",
    "                         params=payload,\n",
    "                         headers=DEFAULT_HEADERS).json()\n",
    "        for song in r['response']['songs']:\n",
    "            fixed_title = unidecode(song['title'].casefold())\n",
    "            if song['primary_artist']['id'] == artist_id and\\\n",
    "                'live' not in fixed_title and\\\n",
    "                'remix' not in fixed_title and\\\n",
    "                'translation' not in fixed_title and\\\n",
    "                'simlish' not in fixed_title:\n",
    "                # songs.append([song['title'], int(song['id']), song['url']])\n",
    "                song_id = str(song['id'])\n",
    "                songs[song_id] = {}\n",
    "                songs[song_id]['name'] = unidecode(song['title']).strip()\n",
    "                songs[song_id]['url'] = song['url']\n",
    "            next_page = r['response']['next_page']\n",
    "        return songs"
   ]
  },
  {
   "cell_type": "code",
   "execution_count": 27,
   "metadata": {},
   "outputs": [],
   "source": [
    "def get_artist_songs(artist_name=None, artist_id=None):\n",
    "    if artist_id is None:\n",
    "        if artist_name is None:\n",
    "            raise ValueError(\n",
    "                'One of artist_id or song_name must be given as an argument')\n",
    "        artist_id = get_artist_id(artist_name)\n",
    "\n",
    "    with open(os.path.join(ROOT_PATH, f'{artist_id}.json')) as f:\n",
    "        artist = json.load(f)\n",
    "        if 'songs' in artist:\n",
    "            print(\n",
    "                f'Song list exists in artist JSON at {os.path.join(ROOT_PATH, f\"{artist_id}.json\")}. Returning...')\n",
    "            return artist['songs']\n",
    "        print(\n",
    "            f'Song list does not exist in artist JSON at {os.path.join(ROOT_PATH, f\"{artist_id}.json\")}. Pulling from Genius...')\n",
    "        songs = _get_artist_songs(artist_id)\n",
    "        artist['songs'] = songs\n",
    "    with open(os.path.join(ROOT_PATH, f'{artist_id}.json'), 'w+') as f:\n",
    "        print(\n",
    "            f'Writing songs to {artist_name} JSON at {os.path.join(ROOT_PATH, f\"{artist_id}.json\")}')\n",
    "        json.dump(artist, f, indent=2)\n",
    "\n",
    "    return songs"
   ]
  },
  {
   "cell_type": "code",
   "execution_count": 28,
   "metadata": {},
   "outputs": [
    {
     "name": "stdout",
     "output_type": "stream",
     "text": [
      "Getting id for artist Snail Mail\n",
      "Found id for Snail Mail in files/name_to_id.json. Returning...\n",
      "Song list does not exist in artist JSON at files/1007900.json. Pulling from Genius...\n",
      "Writing songs to Snail Mail JSON at files/1007900.json\n"
     ]
    },
    {
     "data": {
      "text/plain": [
       "{'3595541': {'name': 'Pristine',\n",
       "  'url': 'https://genius.com/Snail-mail-pristine-lyrics'},\n",
       " '3678164': {'name': 'Heat Wave',\n",
       "  'url': 'https://genius.com/Snail-mail-heat-wave-lyrics'},\n",
       " '3683677': {'name': 'Speaking Terms',\n",
       "  'url': 'https://genius.com/Snail-mail-speaking-terms-lyrics'},\n",
       " '2867874': {'name': 'Thinning',\n",
       "  'url': 'https://genius.com/Snail-mail-thinning-lyrics'},\n",
       " '3078104': {'name': 'Stick',\n",
       "  'url': 'https://genius.com/Snail-mail-stick-lyrics'},\n",
       " '7191839': {'name': 'Valentine',\n",
       "  'url': 'https://genius.com/Snail-mail-valentine-lyrics'},\n",
       " '3739598': {'name': 'Anytime',\n",
       "  'url': 'https://genius.com/Snail-mail-anytime-lyrics'},\n",
       " '3739597': {'name': 'Deep Sea',\n",
       "  'url': 'https://genius.com/Snail-mail-deep-sea-lyrics'},\n",
       " '3739596': {'name': 'Full Control',\n",
       "  'url': 'https://genius.com/Snail-mail-full-control-lyrics'},\n",
       " '3721962': {'name': \"Let's Find an Out\",\n",
       "  'url': 'https://genius.com/Snail-mail-lets-find-an-out-lyrics'},\n",
       " '7191843': {'name': 'Ben Franklin',\n",
       "  'url': 'https://genius.com/Snail-mail-ben-franklin-lyrics'},\n",
       " '3739595': {'name': 'Golden Dream',\n",
       "  'url': 'https://genius.com/Snail-mail-golden-dream-lyrics'},\n",
       " '4031369': {'name': 'The 2nd Most Beautiful Girl in the World',\n",
       "  'url': 'https://genius.com/Snail-mail-the-2nd-most-beautiful-girl-in-the-world-lyrics'},\n",
       " '7191844': {'name': 'Headlock',\n",
       "  'url': 'https://genius.com/Snail-mail-headlock-lyrics'},\n",
       " '7191847': {'name': 'Madonna',\n",
       "  'url': 'https://genius.com/Snail-mail-madonna-lyrics'},\n",
       " '7191846': {'name': 'Forever (Sailing)',\n",
       "  'url': 'https://genius.com/Snail-mail-forever-sailing-lyrics'},\n",
       " '7191852': {'name': 'Mia', 'url': 'https://genius.com/Snail-mail-mia-lyrics'},\n",
       " '3078101': {'name': 'Slug',\n",
       "  'url': 'https://genius.com/Snail-mail-slug-lyrics'},\n",
       " '7191845': {'name': 'Light Blue',\n",
       "  'url': 'https://genius.com/Snail-mail-light-blue-lyrics'},\n",
       " '7191849': {'name': 'Glory',\n",
       "  'url': 'https://genius.com/Snail-mail-glory-lyrics'},\n",
       " '3078099': {'name': 'Static Buzz',\n",
       "  'url': 'https://genius.com/Snail-mail-static-buzz-lyrics'},\n",
       " '7191851': {'name': 'Automate',\n",
       "  'url': 'https://genius.com/Snail-mail-automate-lyrics'},\n",
       " '3683675': {'name': 'Intro',\n",
       "  'url': 'https://genius.com/Snail-mail-intro-lyrics'},\n",
       " '7191848': {'name': ' c. et al.',\n",
       "  'url': 'https://genius.com/Snail-mail-c-et-al-lyrics'},\n",
       " '3078097': {'name': 'Habit',\n",
       "  'url': 'https://genius.com/Snail-mail-habit-lyrics'},\n",
       " '3078100': {'name': 'Dirt',\n",
       "  'url': 'https://genius.com/Snail-mail-dirt-lyrics'},\n",
       " '9516698': {'name': 'Easy Thing',\n",
       "  'url': 'https://genius.com/Snail-mail-easy-thing-lyrics'},\n",
       " '7702696': {'name': 'Adore You (Valentine Demo)',\n",
       "  'url': 'https://genius.com/Snail-mail-adore-you-valentine-demo-lyrics'},\n",
       " '3786765': {'name': 'Feeling Better',\n",
       "  'url': 'https://genius.com/Snail-mail-feeling-better-lyrics'},\n",
       " '3786764': {'name': 'Untitled',\n",
       "  'url': 'https://genius.com/Snail-mail-untitled-lyrics'},\n",
       " '3786766': {'name': 'Ghost',\n",
       "  'url': 'https://genius.com/Snail-mail-ghost-lyrics'},\n",
       " '8157418': {'name': 'Feeling Like I Do - Spotify Singles',\n",
       "  'url': 'https://genius.com/Snail-mail-feeling-like-i-do-spotify-singles-lyrics'},\n",
       " '3786767': {'name': 'Fluorescent Heights',\n",
       "  'url': 'https://genius.com/Snail-mail-fluorescent-heights-lyrics'},\n",
       " '9516810': {'name': '    c. et al. (Demo)',\n",
       "  'url': 'https://genius.com/Snail-mail-c-et-al-demo-lyrics'},\n",
       " '9516811': {'name': 'Headlock (Demo)',\n",
       "  'url': 'https://genius.com/Snail-mail-headlock-demo-lyrics'},\n",
       " '9516809': {'name': 'Automate (Demo)',\n",
       "  'url': 'https://genius.com/Snail-mail-automate-demo-lyrics'},\n",
       " '8250313': {'name': 'Headlock - Spotify Singles',\n",
       "  'url': 'https://genius.com/Snail-mail-headlock-spotify-singles-lyrics'}}"
      ]
     },
     "execution_count": 28,
     "metadata": {},
     "output_type": "execute_result"
    }
   ],
   "source": [
    "# Example\n",
    "get_artist_songs('Snail Mail')"
   ]
  },
  {
   "cell_type": "markdown",
   "metadata": {
    "id": "DKQwrGh1Za0d"
   },
   "source": [
    "## Lyric Scraping\n",
    "\n",
    "We then define some functions related to scraping the lyrics from the Genius website"
   ]
  },
  {
   "cell_type": "markdown",
   "metadata": {
    "id": "_eY0iHf1Zl5e"
   },
   "source": [
    "### get_song_lyrics(song_id, song_url, artist_name=None, artist_id=None)\n",
    "\n",
    "Take an `song_id: str`, `song_url: str` and a `artist_name: str` or `artist_id: str` and return its lyrics as a string, where each line of the song is separated by a newline. Writes lyrics to artist's JSON."
   ]
  },
  {
   "cell_type": "code",
   "execution_count": 29,
   "metadata": {
    "id": "erP-qURpafRl"
   },
   "outputs": [],
   "source": [
    "def _get_song_lyrics(song_url):\n",
    "    # Scrape the lyrics\n",
    "    lyrics = []\n",
    "    options = webdriver.ChromeOptions()\n",
    "    options.add_argument('--no-sandbox')\n",
    "    options.add_argument('--headless')\n",
    "    options.add_argument('--disable-dev-shm-usage')\n",
    "    # options.add_argument(\"--headless=new\")\n",
    "    with webdriver.Chrome(service=ChromeService(ChromeDriverManager().install()), options=options) as driver:\n",
    "        # driver = webdriver.Chrome(service=ChromiumService(ChromeDriverManager(chrome_type=ChromeType.CHROMIUM).install()))\n",
    "        # with webdriver.Chrome(service=ChromiumService(ChromeDriverManager(chrome_type=ChromeType.CHROMIUM).install())) as driver:\n",
    "        # with webdriver.Chrome(service=ChromiumService(ChromeDriverManager(chrome_type=ChromeType.CHROMIUM).install()),\n",
    "        #                       options=options) as driver:\n",
    "        driver.set_page_load_timeout(5)\n",
    "        attempts = 0\n",
    "        while attempts < 10:\n",
    "            try:\n",
    "                driver.get(song_url)\n",
    "            except TimeoutException as e:\n",
    "                attempts += 1\n",
    "                if attempts == 11:\n",
    "                    raise e\n",
    "                print(f'Attempt {attempts} timed out. Trying again...')\n",
    "            else:\n",
    "                break\n",
    "        chunks = driver.find_elements(\n",
    "            By.XPATH, '//div[@data-lyrics-container=\"true\"]')\n",
    "        for chunk in chunks:\n",
    "            for line in chunk.text.split('\\n'):\n",
    "                if line != '' and line[0] != '[':\n",
    "                    lyrics.append(' '.join(line.split()))\n",
    "        return unidecode('\\n'.join(lyrics), errors='ignore')"
   ]
  },
  {
   "cell_type": "code",
   "execution_count": 30,
   "metadata": {},
   "outputs": [],
   "source": [
    "def get_song_lyrics(song_id, artist_name=None, artist_id=None):\n",
    "    if artist_id is None:\n",
    "        if artist_name is None:\n",
    "            raise ValueError(\n",
    "                'One of artist_id or song_name must be given as an argument')\n",
    "        artist_id = get_artist_id(artist_name)\n",
    "\n",
    "    with open(os.path.join(ROOT_PATH, f'{artist_id}.json')) as f:\n",
    "        artist = json.load(f)\n",
    "    song_name = artist['songs'][song_id]['name']\n",
    "    if 'lyrics' in artist['songs'][str(song_id)]:\n",
    "        print(\n",
    "            f'Found lyrics for {song_name} ({song_id}) in artist JSON at {os.path.join(ROOT_PATH, f\"{artist_id}.json\")}. Returning...')\n",
    "        return artist['songs'][str(song_id)]['lyrics']\n",
    "\n",
    "    song_url = artist['songs'][song_id]['url']\n",
    "    print(f'Lyrics for {song_name} ({song_id}) not found in artist JSON at {os.path.join(ROOT_PATH, f\"{artist_id}.json\")}. Pulling from Genius...')\n",
    "    lyrics = _get_song_lyrics(song_url)\n",
    "    artist['songs'][str(song_id)]['lyrics'] = lyrics\n",
    "    with open(os.path.join(ROOT_PATH, f'{artist_id}.json'), 'w+') as f:\n",
    "        print(\n",
    "            f'Writing lyrics for {song_name} ({song_id}) to artist JSON at {os.path.join(ROOT_PATH, f\"{artist_id}.json\")}.')\n",
    "        json.dump(artist, f, indent=2)\n",
    "    return lyrics"
   ]
  },
  {
   "cell_type": "code",
   "execution_count": 31,
   "metadata": {},
   "outputs": [
    {
     "name": "stdout",
     "output_type": "stream",
     "text": [
      "Getting id for artist Snail Mail\n",
      "Found id for Snail Mail in files/name_to_id.json. Returning...\n",
      "Song list exists in artist JSON at files/1007900.json. Returning...\n",
      "Lyrics for Deep Sea (3739597) not found in artist JSON at files/1007900.json. Pulling from Genius...\n",
      "<Response [200]>\n",
      "<Response [200]>\n",
      "Attempt 1 timed out. Trying again...\n",
      "Writing lyrics for Deep Sea (3739597) to artist JSON at files/1007900.json.\n",
      "Deep sea dive\n",
      "Got down, but you stayed alive\n",
      "It's only you down there\n",
      "You and the bends\n",
      "Lose your mind\n",
      "Lose track of breathing in time\n",
      "It's only you down there\n",
      "Sleep with the tides\n",
      "We can be anyone\n",
      "It took so long to know someone like you\n",
      "And age in the dying sun\n",
      "Wake only to bathe in greens and blues\n",
      "Die, my love\n",
      "Breathe in twos and fours\n",
      "To know what's worth breathing for\n",
      "Some days it's easier than falling asleep\n",
      "We can be anyone\n",
      "It took so long to know someone like you\n",
      "And age in the dying sun\n",
      "Wake only to bathe in greens and blues\n"
     ]
    }
   ],
   "source": [
    "artist_id = get_artist_id('Snail Mail')\n",
    "songs = get_artist_songs(artist_id=artist_id)\n",
    "isongs = iter(songs)\n",
    "next(isongs)\n",
    "next(isongs)\n",
    "next(isongs)\n",
    "next(isongs)\n",
    "next(isongs)\n",
    "next(isongs)\n",
    "next(isongs)\n",
    "song_id = next(isongs)\n",
    "print(get_song_lyrics(song_id, artist_id=artist_id))"
   ]
  },
  {
   "cell_type": "markdown",
   "metadata": {
    "id": "PoV7UQkga5mQ"
   },
   "source": [
    "### get_all_song_lyrics(songs)\n",
    "\n",
    "Takes songs `songs = {song_id: {name: str, url: str}}` and add `lyrics: the_lyrics` to each song\n",
    "\n",
    "Returns the updated dict of songs `songs = {song_id: {name: str, url: str, lyrics: str}}`"
   ]
  },
  {
   "cell_type": "code",
   "execution_count": 32,
   "metadata": {
    "id": "4ppPtZ8Qbxef"
   },
   "outputs": [],
   "source": [
    "def get_all_song_lyrics(artist_name=None, artist_id=None):\n",
    "    if artist_id is None:\n",
    "        if artist_name is None:\n",
    "            raise ValueError(\n",
    "                'One of artist_id or song_name must be given as an argument')\n",
    "        artist_id = get_artist_id(artist_name)\n",
    "\n",
    "    songs = get_artist_songs(artist_id=artist_id)\n",
    "    for song_id in songs:\n",
    "        songs[song_id]['lyrics'] = get_song_lyrics(\n",
    "            song_id, artist_id=artist_id)\n",
    "    return songs"
   ]
  },
  {
   "cell_type": "code",
   "execution_count": 33,
   "metadata": {},
   "outputs": [
    {
     "name": "stdout",
     "output_type": "stream",
     "text": [
      "Getting id for artist Snail Mail\n",
      "Found id for Snail Mail in files/name_to_id.json. Returning...\n",
      "Song list exists in artist JSON at files/1007900.json. Returning...\n",
      "Lyrics for Pristine (3595541) not found in artist JSON at files/1007900.json. Pulling from Genius...\n",
      "<Response [200]>\n",
      "<Response [200]>\n",
      "Attempt 1 timed out. Trying again...\n",
      "Attempt 2 timed out. Trying again...\n",
      "Attempt 3 timed out. Trying again...\n",
      "Writing lyrics for Pristine (3595541) to artist JSON at files/1007900.json.\n",
      "Lyrics for Heat Wave (3678164) not found in artist JSON at files/1007900.json. Pulling from Genius...\n",
      "<Response [200]>\n",
      "<Response [200]>\n",
      "Attempt 1 timed out. Trying again...\n",
      "Writing lyrics for Heat Wave (3678164) to artist JSON at files/1007900.json.\n",
      "Lyrics for Speaking Terms (3683677) not found in artist JSON at files/1007900.json. Pulling from Genius...\n",
      "<Response [200]>\n",
      "<Response [200]>\n",
      "Writing lyrics for Speaking Terms (3683677) to artist JSON at files/1007900.json.\n",
      "Lyrics for Thinning (2867874) not found in artist JSON at files/1007900.json. Pulling from Genius...\n",
      "<Response [200]>\n",
      "<Response [200]>\n",
      "Attempt 1 timed out. Trying again...\n",
      "Writing lyrics for Thinning (2867874) to artist JSON at files/1007900.json.\n",
      "Lyrics for Stick (3078104) not found in artist JSON at files/1007900.json. Pulling from Genius...\n",
      "<Response [200]>\n",
      "<Response [200]>\n",
      "Attempt 1 timed out. Trying again...\n",
      "Writing lyrics for Stick (3078104) to artist JSON at files/1007900.json.\n",
      "Lyrics for Valentine (7191839) not found in artist JSON at files/1007900.json. Pulling from Genius...\n",
      "<Response [200]>\n",
      "<Response [200]>\n",
      "Attempt 1 timed out. Trying again...\n",
      "Writing lyrics for Valentine (7191839) to artist JSON at files/1007900.json.\n",
      "Lyrics for Anytime (3739598) not found in artist JSON at files/1007900.json. Pulling from Genius...\n",
      "<Response [200]>\n",
      "<Response [200]>\n",
      "Attempt 1 timed out. Trying again...\n",
      "Writing lyrics for Anytime (3739598) to artist JSON at files/1007900.json.\n",
      "Found lyrics for Deep Sea (3739597) in artist JSON at files/1007900.json. Returning...\n",
      "Lyrics for Full Control (3739596) not found in artist JSON at files/1007900.json. Pulling from Genius...\n",
      "<Response [200]>\n",
      "<Response [200]>\n",
      "Attempt 1 timed out. Trying again...\n",
      "Writing lyrics for Full Control (3739596) to artist JSON at files/1007900.json.\n",
      "Lyrics for Let's Find an Out (3721962) not found in artist JSON at files/1007900.json. Pulling from Genius...\n",
      "<Response [200]>\n",
      "<Response [200]>\n",
      "Attempt 1 timed out. Trying again...\n",
      "Writing lyrics for Let's Find an Out (3721962) to artist JSON at files/1007900.json.\n",
      "Lyrics for Ben Franklin (7191843) not found in artist JSON at files/1007900.json. Pulling from Genius...\n",
      "<Response [200]>\n",
      "<Response [200]>\n",
      "Writing lyrics for Ben Franklin (7191843) to artist JSON at files/1007900.json.\n",
      "Lyrics for Golden Dream (3739595) not found in artist JSON at files/1007900.json. Pulling from Genius...\n",
      "<Response [200]>\n",
      "<Response [200]>\n",
      "Attempt 1 timed out. Trying again...\n",
      "Writing lyrics for Golden Dream (3739595) to artist JSON at files/1007900.json.\n",
      "Lyrics for The 2nd Most Beautiful Girl in the World (4031369) not found in artist JSON at files/1007900.json. Pulling from Genius...\n",
      "<Response [200]>\n",
      "<Response [200]>\n",
      "Attempt 1 timed out. Trying again...\n",
      "Writing lyrics for The 2nd Most Beautiful Girl in the World (4031369) to artist JSON at files/1007900.json.\n",
      "Lyrics for Headlock (7191844) not found in artist JSON at files/1007900.json. Pulling from Genius...\n",
      "<Response [200]>\n",
      "<Response [200]>\n",
      "Attempt 1 timed out. Trying again...\n",
      "Writing lyrics for Headlock (7191844) to artist JSON at files/1007900.json.\n",
      "Lyrics for Madonna (7191847) not found in artist JSON at files/1007900.json. Pulling from Genius...\n",
      "<Response [200]>\n",
      "<Response [200]>\n",
      "Attempt 1 timed out. Trying again...\n",
      "Writing lyrics for Madonna (7191847) to artist JSON at files/1007900.json.\n",
      "Lyrics for Forever (Sailing) (7191846) not found in artist JSON at files/1007900.json. Pulling from Genius...\n",
      "<Response [200]>\n",
      "<Response [200]>\n",
      "Writing lyrics for Forever (Sailing) (7191846) to artist JSON at files/1007900.json.\n",
      "Lyrics for Mia (7191852) not found in artist JSON at files/1007900.json. Pulling from Genius...\n",
      "<Response [200]>\n",
      "<Response [200]>\n",
      "Attempt 1 timed out. Trying again...\n",
      "Writing lyrics for Mia (7191852) to artist JSON at files/1007900.json.\n",
      "Lyrics for Slug (3078101) not found in artist JSON at files/1007900.json. Pulling from Genius...\n",
      "<Response [200]>\n",
      "<Response [200]>\n",
      "Attempt 1 timed out. Trying again...\n",
      "Writing lyrics for Slug (3078101) to artist JSON at files/1007900.json.\n",
      "Lyrics for Light Blue (7191845) not found in artist JSON at files/1007900.json. Pulling from Genius...\n",
      "<Response [200]>\n",
      "<Response [200]>\n",
      "Attempt 1 timed out. Trying again...\n",
      "Writing lyrics for Light Blue (7191845) to artist JSON at files/1007900.json.\n",
      "Lyrics for Glory (7191849) not found in artist JSON at files/1007900.json. Pulling from Genius...\n",
      "<Response [200]>\n",
      "<Response [200]>\n",
      "Attempt 1 timed out. Trying again...\n",
      "Writing lyrics for Glory (7191849) to artist JSON at files/1007900.json.\n",
      "Lyrics for Static Buzz (3078099) not found in artist JSON at files/1007900.json. Pulling from Genius...\n",
      "<Response [200]>\n",
      "<Response [200]>\n",
      "Attempt 1 timed out. Trying again...\n",
      "Writing lyrics for Static Buzz (3078099) to artist JSON at files/1007900.json.\n",
      "Lyrics for Automate (7191851) not found in artist JSON at files/1007900.json. Pulling from Genius...\n",
      "<Response [200]>\n",
      "<Response [200]>\n",
      "Attempt 1 timed out. Trying again...\n",
      "Writing lyrics for Automate (7191851) to artist JSON at files/1007900.json.\n",
      "Lyrics for Intro (3683675) not found in artist JSON at files/1007900.json. Pulling from Genius...\n",
      "<Response [200]>\n",
      "<Response [200]>\n",
      "Writing lyrics for Intro (3683675) to artist JSON at files/1007900.json.\n",
      "Lyrics for  c. et al. (7191848) not found in artist JSON at files/1007900.json. Pulling from Genius...\n",
      "<Response [200]>\n",
      "<Response [200]>\n",
      "Attempt 1 timed out. Trying again...\n",
      "Writing lyrics for  c. et al. (7191848) to artist JSON at files/1007900.json.\n",
      "Lyrics for Habit (3078097) not found in artist JSON at files/1007900.json. Pulling from Genius...\n",
      "<Response [200]>\n",
      "<Response [200]>\n",
      "Attempt 1 timed out. Trying again...\n",
      "Writing lyrics for Habit (3078097) to artist JSON at files/1007900.json.\n",
      "Lyrics for Dirt (3078100) not found in artist JSON at files/1007900.json. Pulling from Genius...\n",
      "<Response [200]>\n",
      "<Response [200]>\n",
      "Attempt 1 timed out. Trying again...\n",
      "Writing lyrics for Dirt (3078100) to artist JSON at files/1007900.json.\n",
      "Lyrics for Easy Thing (9516698) not found in artist JSON at files/1007900.json. Pulling from Genius...\n",
      "<Response [200]>\n",
      "<Response [200]>\n",
      "Attempt 1 timed out. Trying again...\n",
      "Writing lyrics for Easy Thing (9516698) to artist JSON at files/1007900.json.\n",
      "Lyrics for Adore You (Valentine Demo) (7702696) not found in artist JSON at files/1007900.json. Pulling from Genius...\n",
      "<Response [200]>\n",
      "<Response [200]>\n",
      "Attempt 1 timed out. Trying again...\n",
      "Writing lyrics for Adore You (Valentine Demo) (7702696) to artist JSON at files/1007900.json.\n",
      "Lyrics for Feeling Better (3786765) not found in artist JSON at files/1007900.json. Pulling from Genius...\n",
      "<Response [200]>\n",
      "<Response [200]>\n",
      "Writing lyrics for Feeling Better (3786765) to artist JSON at files/1007900.json.\n",
      "Lyrics for Untitled (3786764) not found in artist JSON at files/1007900.json. Pulling from Genius...\n",
      "<Response [200]>\n",
      "<Response [200]>\n",
      "Attempt 1 timed out. Trying again...\n",
      "Writing lyrics for Untitled (3786764) to artist JSON at files/1007900.json.\n",
      "Lyrics for Ghost (3786766) not found in artist JSON at files/1007900.json. Pulling from Genius...\n",
      "<Response [200]>\n",
      "<Response [200]>\n",
      "Attempt 1 timed out. Trying again...\n",
      "Writing lyrics for Ghost (3786766) to artist JSON at files/1007900.json.\n",
      "Lyrics for Feeling Like I Do - Spotify Singles (8157418) not found in artist JSON at files/1007900.json. Pulling from Genius...\n",
      "<Response [200]>\n",
      "<Response [200]>\n",
      "Attempt 1 timed out. Trying again...\n",
      "Writing lyrics for Feeling Like I Do - Spotify Singles (8157418) to artist JSON at files/1007900.json.\n",
      "Lyrics for Fluorescent Heights (3786767) not found in artist JSON at files/1007900.json. Pulling from Genius...\n",
      "<Response [200]>\n",
      "<Response [200]>\n",
      "Writing lyrics for Fluorescent Heights (3786767) to artist JSON at files/1007900.json.\n",
      "Lyrics for     c. et al. (Demo) (9516810) not found in artist JSON at files/1007900.json. Pulling from Genius...\n",
      "<Response [200]>\n",
      "<Response [200]>\n",
      "Writing lyrics for     c. et al. (Demo) (9516810) to artist JSON at files/1007900.json.\n",
      "Lyrics for Headlock (Demo) (9516811) not found in artist JSON at files/1007900.json. Pulling from Genius...\n",
      "<Response [200]>\n",
      "<Response [200]>\n",
      "Attempt 1 timed out. Trying again...\n",
      "Writing lyrics for Headlock (Demo) (9516811) to artist JSON at files/1007900.json.\n",
      "Lyrics for Automate (Demo) (9516809) not found in artist JSON at files/1007900.json. Pulling from Genius...\n",
      "<Response [200]>\n",
      "<Response [200]>\n",
      "Attempt 1 timed out. Trying again...\n",
      "Writing lyrics for Automate (Demo) (9516809) to artist JSON at files/1007900.json.\n",
      "Lyrics for Headlock - Spotify Singles (8250313) not found in artist JSON at files/1007900.json. Pulling from Genius...\n",
      "<Response [200]>\n",
      "<Response [200]>\n",
      "Writing lyrics for Headlock - Spotify Singles (8250313) to artist JSON at files/1007900.json.\n"
     ]
    },
    {
     "data": {
      "text/plain": [
       "{'3595541': {'name': 'Pristine',\n",
       "  'url': 'https://genius.com/Snail-mail-pristine-lyrics',\n",
       "  'lyrics': \"Pristine\\nUntraced by the world outside you\\nAnyways\\nI'll never get real\\nand you'll never change to me 'cause I'm not looking\\nAnyways\\nSame night\\nSame humility for those that love you\\nAnyways,\\nanyways\\nAnd if you do find someone better\\nI'll still see you in everything\\nTomorrow and all the time\\nDon't you like me for me?\\nIs there any better feeling than coming clean?\\nAnd I know myself and I'll never love anyone else\\nI won't love anyone else\\nI'll never love anyone else\\nIt just feels like\\nThe same party every weekend\\nDoesn't it? Doesn't it?\\nAnd if you do find someone better\\nI'll still see you in everything\\nFor always, tomorrow, and all the time\\nDon't you like me for me?\\nIs there any better feeling than coming clean?\\nAnd I know myself and I'll never love anyone else\\nI won't love anyone else\\nI'll never love anyone else\\nIf it's not supposed to be\\nThen I'll just let it be\\nAnd out of everyone\\nBe honest with me\\nWho do you change for?\\nWho's top of your world?\\nAnd out of everyone\\nWho's your type of girl?\\nAnd we can be anything\\nEven apart\\nAnd out of everything\\nIt doesn't have to be this hard\\nI could be anyone but I'm so entwined\\nAnd out of everyone\\nWho's on your mind?\\nNo more changes\\nI'll still love you the same\"},\n",
       " '3678164': {'name': 'Heat Wave',\n",
       "  'url': 'https://genius.com/Snail-mail-heat-wave-lyrics',\n",
       "  'lyrics': \"I'm so tired of moving on\\nSpending every weekend so far gone\\nHeat wave, nothing to do\\nWoke up in my clothes having dreamt of you\\nSwirl in the white evening sun\\nTell me that I'm the only one\\nAnd I hope I never get a clue\\nGreen eyes, I don't know what to do\\nAnd I hope whoever it is\\nHolds their breath around you\\n'Cause I know I did\\nAnd otherwise\\nIf only sometimes\\nWould you give it up, green eyes?\\nPassing phases wear you thin\\nSame old world that you've been sleeping in\\nAnd I hope it never spends you up\\nGreen eyes, what could ever be enough?\\nAnd I hope the love that you find\\nSwallows you wholly\\nLike you said it might\\nAnd otherwise\\nIf only sometimes\\nWould you give it up, green eyes?\\nI'm feeling low\\nI'm not into sometimes\\nI'm feeling low\\nI'm not into sometimes\\nI'm feeling low\\nI'm not into sometimes\\nI'm feeling low\\nI'm not into sometimes\"},\n",
       " '3683677': {'name': 'Speaking Terms',\n",
       "  'url': 'https://genius.com/Snail-mail-speaking-terms-lyrics',\n",
       "  'lyrics': \"Oh, don't see you now\\nWait, don't just give out\\nMove from your old house\\nThe city can be so loud\\nSay what you gotta\\nSleep in somehow\\nLose sight of wherever you are\\nDo you know when you've gone too far?\\nIf it's all ash and dust\\nWell, then I won't let you take me for a ride\\nSay what you gotta\\nSleep in somehow\\nLeave things on speaking terms\\nAnd I'll see you around\\nIt's all ash and dust\\nAnd I won't let you take me for a ride\\nAnd it's all over us\\nAnd still I won't let you take me for a ride\\nWho?\\nWho?\"},\n",
       " '2867874': {'name': 'Thinning',\n",
       "  'url': 'https://genius.com/Snail-mail-thinning-lyrics',\n",
       "  'lyrics': 'Haven\\'t felt right in a week\\nAnd I\\'m thinning out\\nAnd it hurts bad\\nI gotta get back\\nHot head and dreamless sleep\\nI could just slip down\\nAnd on the wrong track\\nI gotta get back\\nI wanna spend the entire year\\nJust face down\\nAnd on my own time\\nI wanna waste mine\\nAnd spend the rest of it asking myself\\n\"Is this who you are?\"\\nAnd I don\\'t know\\nIt just feels gross\\nI don\\'t think there\\'s anything wrong\\nI don\\'t think there\\'s anything wrong\\nAnd I don\\'t think there\\'s anything wrong\\nI don\\'t think there\\'s anything wrong\\nSunlight on the back of my arms\\nJust thins me out\\nTo a different time\\nI wanna waste mine'},\n",
       " '3078104': {'name': 'Stick',\n",
       "  'url': 'https://genius.com/Snail-mail-stick-lyrics',\n",
       "  'lyrics': \"Do you dream about the people that wrong you?\\nDo you see those faces again and again?\\nAnd what holy thing has come to possess you?\\nAnd does it all blend together in your head?\\nAnd did things work out for you?\\nOr are you still not sure what that means?\\nAnd it's a hard trip to the kitchen sink\\n'Cause I can't wash this one clean, clean\\nDid you tell all of your friends?\\nDid you tell all of your friends?\\nMaybe I could understand\\nWhat is it about them?\\nWould they stick around?\\nWhat is it with them?\\nAnd would they stick around?\\nUp late for six nights in a row\\nFigures in the dark, oh, they move so slow\\nSleep with the lights on in the hall\\nAnd you'd leave the door open\\nIt won't mean a thing at all\\nAnd did things work out for you?\\nOr are you still not sure what that means?\\nAnd it's a hard trip to the kitchen sink\\n'Cause I can't wash this one clean\\nDid you tell all of your friends?\\nDid you tell all of your friends?\\nAnd baby, I could understand\\nWhat is it about them?\\nWould they stick around?\\nAnd what is it with them?\\nAnd would they stick around?\\nWould they stick around?\\nWould they stick around?\\nAnd it doesn't matter\\nThey're up and they're down\\nAnd I'll bet\\nThey're at home\\nAnd I wouldn't worry\\nWho's happy alone\\nEven when it doesn't make sense\"},\n",
       " '7191839': {'name': 'Valentine',\n",
       "  'url': 'https://genius.com/Snail-mail-valentine-lyrics',\n",
       "  'lyrics': \"Let's go be alone\\nWhere no one can see us, honey\\nCareful in that room\\nThose parasitic cameras, don't they stop to stare at you?\\nCan't love for us both\\nYou've gotta live and I gotta go\\nAs long as it's us two\\nFuck being remembered, I think I was made for you\\nSo why'd you wanna erase me, darling valentine?\\nYou'll always know where to find me when you change your mind\\nI'd hate to picture someone with you\\nI lay down and start to cry\\nYou won't believe what just two months do\\nI'm older now, believe me, I adore you\\nSo why'd you wanna erase me, darling valentine?\\nYou'll always know where to find me when you change your mind\\nSo why'd you wanna erase me, darling valentine?\\nNow I can't hate you\\nI ruined me for you\\nBlame me if you need to\\nBut I adore you\\nI adore you\\nI adore you\\nI adore you\"},\n",
       " '3739598': {'name': 'Anytime',\n",
       "  'url': 'https://genius.com/Snail-mail-anytime-lyrics',\n",
       "  'lyrics': \"Go\\nGet it all\\nLet 'em watch\\nLet it fall\\nNameless\\nSweat it out\\nThey don't love you\\nDo they?\\nAnd I\\nCarved your name\\nIn the white\\nDulling day\\nCouldn't believe\\nYou were gone\\nDo you love me?\\nAnd the passing phases feel the same\\nThough you've got so much to do\\nIn the end you could waste your whole life anyways\\nAnd I want better for you\\nGrace\\nBorn and raised\\nCut you down\\nStill bleeds the same\\nAs it is\\nUnusually\\nAre you hung up?\\nOr do you love me?\\nAnd the passing faces look the same\\nThough they don't know you\\nIn the end you could waste your whole life anyways\\nBut I want better for you\\nAnd I'm not in love with your absence\\n'Cause I have fallen so hard for the space\\nAnd I've gotten to know the quiet\\nAnd still prefer you anytime\\nStill prefer you anytime\\nAnd still prefer you anytime\"},\n",
       " '3739597': {'name': 'Deep Sea',\n",
       "  'url': 'https://genius.com/Snail-mail-deep-sea-lyrics',\n",
       "  'lyrics': \"Deep sea dive\\nGot down, but you stayed alive\\nIt's only you down there\\nYou and the bends\\nLose your mind\\nLose track of breathing in time\\nIt's only you down there\\nSleep with the tides\\nWe can be anyone\\nIt took so long to know someone like you\\nAnd age in the dying sun\\nWake only to bathe in greens and blues\\nDie, my love\\nBreathe in twos and fours\\nTo know what's worth breathing for\\nSome days it's easier than falling asleep\\nWe can be anyone\\nIt took so long to know someone like you\\nAnd age in the dying sun\\nWake only to bathe in greens and blues\"},\n",
       " '3739596': {'name': 'Full Control',\n",
       "  'url': 'https://genius.com/Snail-mail-full-control-lyrics',\n",
       "  'lyrics': \"Don't even wanna fix it now\\nShould know better than to wait around\\nAll in a haze\\nCouldn't shake it for the rest of the day\\nAnd if you shoot it down\\nYou better get back up\\nYou better get back up\\nI'm sorry babe, that's not where I'm at\\nShouldn't be here when you get back\\nJust to stand in line\\nWait for you and then waste my time\\nAnd if you spill your guts\\nAnd try new clothes\\nAnd try new clothes\\nI'm in full control\\nI'm not lost\\nEven when it's love\\nEven when it's not\\nHold your breath when you hold the door\\nI never think about it anymore\\nNow when I lay back\\nIt goes to nothing or it goes to black\\nAnd if you spill your guts\\nI hope he's enough\\nI hope he's enough\\nIn full control\\nI'm not lost\\nEven when it's love\\nEven when it's not\\nEven when it's love\\nEven when it's love\\nEven when it's love\\nEven though it's not\"},\n",
       " '3721962': {'name': \"Let's Find an Out\",\n",
       "  'url': 'https://genius.com/Snail-mail-lets-find-an-out-lyrics',\n",
       "  'lyrics': \"June's glowing red\\nOh, strawberry moon\\nYou're always coming back a little older\\nBut it looks alright on you\\nLet's find an out\\nWe'll start anew\\nWith the headlights in your eyes\\nI see it all over you\\nBurn out when you want\\nSomething that's lost belongs to you\\nIf someone should pay for it\\nWell, I don't know who\\nWho\"},\n",
       " '7191843': {'name': 'Ben Franklin',\n",
       "  'url': 'https://genius.com/Snail-mail-ben-franklin-lyrics',\n",
       "  'lyrics': \"On two, feels like spring\\nAll on my own, guess the shit just makes you boring\\nGot money, I don't care about sex\\nYou knew how I'd take it, you brought her to flex\\nSucker for the pain, huh, honey?\\nBut you said you'd die\\nYou wanna leave a stain\\nLike a relapse does when you really tried\\nAnd damn, this time, I really tried\\nMoved on, but nothing feels true\\nSometimes I hate her just for not being you\\nPost-rehab, I've been feeling so small\\nI miss your attention, I wish I could call\\nSucker for the pain, huh, honey?\\nBut you said you'd die\\nYou wanna leave a stain forever\\nBut you said you'd die\\nSaid you would've died for me\\nRaised your voice to me\\nThe second time I had to make myself believe\\nI deserve it, I'm crazy\\nBut don't act like you've never met me\\nI never should've hurt you\\nI've got the devil in me\\nI've got the devil in me\\nI've got the devil in me\\nSucker for the pain, huh, honey?\\nBut you said you'd die\\nYou wanna leave a stain forever\\nBut you said you'd die\\nSaid you would've died for me\"},\n",
       " '3739595': {'name': 'Golden Dream',\n",
       "  'url': 'https://genius.com/Snail-mail-golden-dream-lyrics',\n",
       "  'lyrics': \"Head below the surface of a frozen lake\\nLet in the black water, let it seep into my brain\\nGod around your neck\\n, though he never did too much for you\\nI wish I knew him better, though I don't think there's much he'd wanna do\\nI'm not yours\\nKnow when I mean it\\nI'm not wasted anymore\\nTomorrow night's impatience in an endless, perfect world\\nThe morning bleeds into the golden dream just like before\\nTomorrow I'll feel differently but my mind will be made up\\nIn times that I could buy your love, though I don't think that I have enough\\nI'm not yours\\nKnow when I mean it\\nI'm not wasted anymore\\nStupid, stupid, stupid me, me, me, me\"},\n",
       " '4031369': {'name': 'The 2nd Most Beautiful Girl in the World',\n",
       "  'url': 'https://genius.com/Snail-mail-the-2nd-most-beautiful-girl-in-the-world-lyrics',\n",
       "  'lyrics': \"She fell down\\nHead first in the sound\\nTried to stop herself from moving\\nBut it was too profound\\nTouch her pants\\nTo try to quit your glance\\n'Cause you just notice the dirty way\\nThat American girls dance\\nDid she go right to your head\\nWhen she danced upon the bed?\\nIs she a dream or is she a drag?\\nCan she do the shag?\\nLater on\\nTo find out she was on\\nThere's nothing so unbearable\\nAs knowing that she's gone\\nDream awake\\nTo try to make her stay\\nYou know that you give her everything\\nBut she does it anyway\\nDid she go right to your head\\nWhen she danced upon the bed?\\nIs she a dream or is she a drag?\\nCan she do the shag?\\nThere's one thing that you will never know\\nIs how she got to be so whoa-oh-oh\\nBeautiful\\nShe's unreal\\nExactly how it feels\\nI think they've got a line for it\\nShe invented sex appeal\\nYou'll undress\\nAnd try to get some rest\\n'Cause you'll just think of her summer hair\\nAnd her wintery caress\\nDid she go right to your head\\nWhen she danced upon the bed?\\nIs she a dream or is she a drag?\\nCan she do the shag?\"},\n",
       " '7191844': {'name': 'Headlock',\n",
       "  'url': 'https://genius.com/Snail-mail-headlock-lyrics',\n",
       "  'lyrics': \"When did you start seeing her?\\nGuess somebody finally tamed you\\nNever seen you look so sure\\nSorrow snuck into our secret place\\nDrag me with you to Nirvana, baby\\nTake me all the way\\nDrinkin' just to taste her mouth\\nGot you drifting in and out\\nMr. Death wants my baby now\\nFelt the crowd was wrong to claim you\\nWon't they ever quiet down?\\nSomeone's daughter adorned in flames\\nDrag me with you to Nirvana, baby\\nTake me all the way\\nMan enough to see this through\\nMan, I'm nothing without you\\nAh, ah, ah, ah\\nThought I'd see her when I died\\nFilled the bath up with warm water\\nNothing on the other side\\nMan enough to see this through\\nOr is it one more thing I won't get to?\\nCan't go out, I'm tethered to\\nAnother world where we're together\\nAre you lost in it too?\\nAre you lost in it too?\\nAre you lost in it too?\\nAre you lost in it too?\"},\n",
       " '7191847': {'name': 'Madonna',\n",
       "  'url': 'https://genius.com/Snail-mail-madonna-lyrics',\n",
       "  'lyrics': \"You've got a way to you, original Madonna\\nWon't make the rest just go away\\nYou spent the money, throwing ones at supermodels\\nEverybody wants to taste the wine\\nLine around the block at judgment time\\nAnd how could you deny them that?\\nBody and blood, lover's curse\\nDivine intervention was too much work\\nI don't need absolution, it just hurts\\nWe're not really talking now\\nWe're not really talking now\\nI consecrate my life to kneeling at your altar\\nMy second sin of seven being wanting more\\nCould that have been the smell of roses\\n, backseat lover?\\nPraying you'd fill my empty cup\\nOr cursing myself for even getting dressed up\\nBody and blood, lover's curse\\nDivine intervention was too much work\\nI don't need absolution, no, it just hurts\\nWe're not really talking now\\nBody and blood, I'll atone\\nGet to it now, or we can fight on the phone\\nI used to wanna get even, I'll just get stoned\\nBow to your divinity\\nGonna wipe the dirt off me\\nOur love's a sickness, baby\\nI'm holding on tight, I don't know why\\nI've come to hate my body\\n'Cause now it's not yours, now it's not mine\\nI don't know why, oh I don't know why but\\nWe're not really talking now\\nWe're not really talking now\\nWe're not really talking now\"},\n",
       " '7191846': {'name': 'Forever (Sailing)',\n",
       "  'url': 'https://genius.com/Snail-mail-forever-sailing-lyrics',\n",
       "  'lyrics': \"I might have made a stranger out of you\\nAnd I'm stranger too\\nI know that's not my perfume on you\\n, Tiger\\nAnd we don't have long\\nDoesn't obsession just become me?\\nDon't let 'em see, we don't owe it to nobody\\nNo matter where we are, I love you from the city to the stars\\nBut nothin' stays as good as how it starts\\nYou and I, like a ship, forever sailing\\nYou and I, everything we try is failing\\nEverything we do\\nEverything we try\\nTime tends to pass and make a joke of things, but\\nEleven months and still\\nSome nights I reach for you like you're beside me\\nYou're takin' her home\\nDoes an obsession just become you?\\nYou're takin' that tone, icy cold, come on, I loved you\\nWhatever you decide, I'll chase you from the city to the sky\\nAnd lose myself for you a thousand times\\nYou and I, like a ship forever sailing\\nYou and I, everything we try is failing\\nEverything we do\\nEverything we try\\nYou and I, like a ship forever sailing\\nYou and I, everything we try is failing\\nEverything we do\\nEverything we try\\nSo much destruction\\nLook at what we did\\nThat was so real\\nAnd you don't just forget\\nSo much destruction\\nLook at what we did\\nThat was so real\\nAnd you don't just forget\\n(No more)\\nSo much destruction\\n(Everything is her)\\nLook at what we did\\n(No more)\\nThat was so real\\n(Everything is her)\\nAnd you don't just forget\\n(No more)\\nSo much destruction\\n(Everything is her)\\nLook at what we did\\n(No more)\\nThat was so real\\n(Everything is her)\\nYou don't just forget\\n(No more)\\n(Everything is her)\\nYou don't just forget\\n(No more)\\n(Everything is her)\\nYou don't just forget\\n(No more)\\n(Everything is her)\\nYou don't just forget\\n(No more)\\n(Everything is her)\"},\n",
       " '7191852': {'name': 'Mia',\n",
       "  'url': 'https://genius.com/Snail-mail-mia-lyrics',\n",
       "  'lyrics': \"Isn't it strange, the way it's just over?\\nNo late night calls\\nYou're not here to walk me to my door\\nNow I just love you more\\nMia, don't cry\\n, I love you forever\\nBut I've gotta grow up now\\nNo, I can't keep holding on to you anymore\\nMia, I'm still yours\\nLost love, so strange\\nAnd heaven's not real, babe\\nBut I wish that I\\nCould lay down next to you\\nYou're fixin' your hair on the way to his place\\nOff of Broadway and 9th\\nIf you're wakin' up slow together\\nand talking through the night\\nI bet he feels so fuckin' light\\nLost love, so strange\\nAnd heaven's not real, babe\\nWell I wish that I\\nCould lay down next to you\\nI wish that I could lay down next to you, you\"},\n",
       " '3078101': {'name': 'Slug',\n",
       "  'url': 'https://genius.com/Snail-mail-slug-lyrics',\n",
       "  'lyrics': \"Oh garden slug\\nWhat would you give to live like one of us?\\nOr would you rather wait in the shade?\\nJust the same as every day\\nOh useless thing\\nWhat does another useless day bring?\\nDid you just lie in place?\\nEmulated by the way I lie awake\\nAnd in the waves I could've sworn that I saw my own reflection\\nAnd it was someone else's in the back\\nI could've waited my whole life to\\nKnow the difference\\nBut I should've just known better than that\\nAnd oh, is it easiest to hide\\nUnder covered rocks\\nOr would you rather cut it all down\\nJust to keep it from dragging you around?\\nAnd in the waves I could've sworn that I saw my own reflection\\nAnd it was someone else's in the back\\nI could've waited my whole life to\\nKnow the difference\\nBut I should've just known better than that\\nSo if you look death right in the face, don't thank him\\n'Cause there's nothing and there won't ever be\\nAnd in moss covered springs you'd never find anything\\nSo what's the use in hiding under our feet?\"},\n",
       " '7191845': {'name': 'Light Blue',\n",
       "  'url': 'https://genius.com/Snail-mail-light-blue-lyrics',\n",
       "  'lyrics': \"First time I met you, I knew then\\nAfterwards there'd be no in-between\\nWe can sail the ocean blue\\nOr just lie down, you know how I love you\\nNothing's gonna stop me now\\nNothing's gonna stop me now\\nNothing's gonna stop me now\\nI wanna wake up early every day\\nJust to be awake in the same world as you\\nI won't ever hurt you\\nNo more endless nights, only the lightest blues\\nIf anyone should stop me now\\nNothing's gonna stop me now\\nNothing's gonna stop me now, now, now, now\\nI'm not going back\\nI'm not going back\\nI'm not going back\\nI'm not going back\"},\n",
       " '7191849': {'name': 'Glory',\n",
       "  'url': 'https://genius.com/Snail-mail-glory-lyrics',\n",
       "  'lyrics': \"You want it all, superstar\\nJesus died just to save you\\nWalk me down Hollywood Boulevard\\nGet me high in the hotel room\\nYou owe me\\nYou own me\\nI could never hurt you, my love\\nYou know me\\nWhen it gets cold\\n, we'll move to Malibu\\nWhere the drinks are hard, you make them go down smooth\\nYou wanna make it hurt, superstar\\nWhen you took too much in your bedroom\\nYou owe me\\nYou own me\\nI could never hurt you, my love\\nYou know me\\nYou owe me\\nYou own me\\nCouldn't even look at you straight on\\nShining in your glory\"},\n",
       " '3078099': {'name': 'Static Buzz',\n",
       "  'url': 'https://genius.com/Snail-mail-static-buzz-lyrics',\n",
       "  'lyrics': \"Shutters on my house keeps the sunlight in\\nIf that's not enough to keep the people out\\nThen I don't wanna know what's on the other side\\nTurn on the TV, I wonder who thinks of it all\\nWe could be watching the same thing\\nBut I always shock myself when I plug it into the wall\\nSo should I ask?\\nAre you home?\\nI can't keep anything down\\nAll I hear is static buzz\\nAnd it's all echoing through my bedroom wall\\nCover me in flies\\nThey're breaking through the door\\nThat'll show the garbage man\\nWhat everyone else is always so bitter for\\nSo should I ask?\\nAre you home?\\nI can't keep anything down\\nAll I hear is static buzz\\nAnd it's all echoing through my bedroom wall\\nShutters on my house keeps the sunlight in\\nIf that's not enough to keep the people out\\nThen I don't wanna know what's on the other side\\nThe other side\\nThe other side\\nThe other side\"},\n",
       " '7191851': {'name': 'Automate',\n",
       "  'url': 'https://genius.com/Snail-mail-automate-lyrics',\n",
       "  'lyrics': \"One more drink 'til I can feel you\\nAnd when the party's empty, we can slow dance in my room\\nTried life without you, but you in that green sweater\\nI could die if I had the guts, puked it up, drank too much\\nFeed the flame forever\\nAutomate me and I'll never find a love like this\\nI'm free but who was I to ever want like this?\\nYou got so mean, pouring out the Jack and consequence\\nWhen you're with me, who was I to ever want like this?\\nBlank lips, dark room, I pretend it's you\\nBut she kissed like she meant it\\nIt's like I'm living, and I'm past her\\nAnd it's thirteen days after but it still feels like I'm cheating\\nOne more drink 'til I can lay beside you\\nThough all at once is better\\nAutomate me and I'll never find a love like this\\nI'm free but who was I to ever want like this?\\nYou got so mean, pouring out the Jack and consequence\\nWhen you're with me, who was I to ever want like this?\\nI guess I couldn't keep her fire out\\nI guess I couldn't keep her fire out\\nAnd I'm like your dog, I'm like your dog\\nOnly I know you'll be sweet if I stay\\nAnd it's not enough, conditional love\\nWhen I'm old and rotten, you'll be on your way\\nI guess I couldn't keep her fire out\\nI guess I couldn't keep her fire out\\nAnd childishly I'm lonely when it's time to clear out the party\\nAutomate me\"},\n",
       " '3683675': {'name': 'Intro',\n",
       "  'url': 'https://genius.com/Snail-mail-intro-lyrics',\n",
       "  'lyrics': \"Go\\nGet it all\\nLet 'em watch\\nLet it fall\\nNameless\\nSweat it out\\nThey don't love you\\nDo they?\\nGrace\\nBorn and raised\\nCut you down\\nStill bleeds the same\\nAs it is\\nFor you, anytime\\nStill, for you, anytime\"},\n",
       " '7191848': {'name': ' c. et al.',\n",
       "  'url': 'https://genius.com/Snail-mail-c-et-al-lyrics',\n",
       "  'lyrics': \"Woke up without why or how\\nWasted, asleep on the couch\\nRoutine as it is, I can start everyday\\nWithout all the messin' around\\nEven with a job that keeps me movin'\\nMost days I just wanna lie down\\nSleep it away 'til it's nothin', and\\nPull the blinds all the way down, down, down\\nSunrise, dead of night\\nWith a comedown so early in the mornin'\\nI hate those long drives, least we ended things nice\\nSummer's gotta end sometimes\\nOh, Mia\\nBaby blue\\n, I'm so behind\\nCan't make sense of the faces in and out of my life\\nWhirlin' above our daily routines\\nBut we're buried in problems, baby honestly\\nWish it'd been you the other night\\nShould've been you, but it's alright\\nFeels like I'm losin' my mind, baby blue\\nBut I'd leave it behind if you wanted me to\"},\n",
       " '3078097': {'name': 'Habit',\n",
       "  'url': 'https://genius.com/Snail-mail-habit-lyrics',\n",
       "  'lyrics': \"Had a dream it was on my ceiling\\nI had a feeling it was in my head\\nIf I walk outside every time it's freezing\\nI have to wonder if it wants me dead again\\nIt's not something I can run my hands over\\nIt's not something I can run my hands over\\nIt's not something I can run my hands over\\nIt's not something I can run my hands over\\nI'm not afraid to walk without a way\\nAnd if I close my eyes, I'm scared I'll never get to leave the grey\\nI wanna sleep and never leave my bed\\nAnd then I won't hesitate to call it my friend again\\nIt's not something I can run my hands over\\nIt's not something I can run my hands over\\nIt's not something I can run my hands over\\nIt's not something I can run my hands over\\nOh, never sleep again\\nOh, never sleep again\"},\n",
       " '3078100': {'name': 'Dirt',\n",
       "  'url': 'https://genius.com/Snail-mail-dirt-lyrics',\n",
       "  'lyrics': \"I've been down countless halls\\nAnd once you've seen one, it's like you've seen 'em all\\nAnd I've seen two open doors\\nAnd I can't help but wonder what the second is for\\nAnd I can't tell myself anything\\nEven when it feels so seamless\\nAnd even when it feels so seamless\\nDon't get caught in the dirt, the dirt\\nThere's a weight and I feel it and it's pressing down\\nAnd it won't be for nothing and it won't stick around\\nIf it is about anything that I can fix\\nThen I'll see you on the other side if it really exists\\nAnd I can't tell myself anything\\nEven when it feels so seamless\\nBut even when it feels so seamless\\nDon't get caught in the dirt, the dirt\\nNo more clean air, it burns my lungs\\nNo more second guesses, I've had enough\\nNo more clean air, it burns my lungs\\nNo more second guesses, I've had enough\\nLet's forget it now\\nBaby, when I'm 30, I'll laugh about how dumb it felt\\nBaby, when I'm 30, I'll laugh it out\\nAnd oh god, it's not funny, it's not funny, it's not funny\\nBut I know we can laugh it out\"},\n",
       " '9516698': {'name': 'Easy Thing',\n",
       "  'url': 'https://genius.com/Snail-mail-easy-thing-lyrics',\n",
       "  'lyrics': \"Autumn was a blur to me too\\nWas I just a concept of clothing to you?\\nDown comes the torrential rain on the roof\\n'Cause I'll be your fool forever\\nAnd ain't I that same girl you loved?\\nFalling in love with such losers for what?\\nWas there really something or were we just drunk?\\nAnd ain't I that same girl that loves you?\\nWe can't yet be sure\\nMaking out's boring\\nAnd you don't really love her when morning light stings\\nForget about that girl\\nWe'll always have that easy thing\\nSo don't you forget all those things we were going to do\\nI just wanna say I still love you\\nI still love you\"},\n",
       " '7702696': {'name': 'Adore You (Valentine Demo)',\n",
       "  'url': 'https://genius.com/Snail-mail-adore-you-valentine-demo-lyrics',\n",
       "  'lyrics': \"Let's go be alone\\nWhere no one can see us, honey\\nThe scum in every room\\nForget about the cameras when they stop to stare at you\\nBoth grew up so soon\\nNow summer's never ending\\nThere and then, I knew\\nNever been in love, but I think I was made for you\\nAnd trouble don't stay\\nNo, my mother taught me better\\nMake a fool out of me\\nBetter do it quickly, while you still can\\nWhile you still can\\nBut trouble looks so good\\nI'm only scared that this is heaven\\nShe spends the night\\nAnd I still think of God under bowery bathroom lights\\nThen when life slows down\\nWe'll raise some kids to have our style\\nNo backing out now\\nOnce you pinky promise, you're bound\\nMia, are you down?\\nSing it in my mouth\\nNot even scared of getting old now\\nLong as it's us two\\nFuck being remembered, honey\\nI adore you\\nI adore you\\nI adore you\"},\n",
       " '3786765': {'name': 'Feeling Better',\n",
       "  'url': 'https://genius.com/Snail-mail-feeling-better-lyrics',\n",
       "  'lyrics': \"I thought I was dreaming\\n'Til the light came through the door\\nIt was more than just a dream\\nI believed I was drowning\\nSo what'd you wake me up for?\\nI don't see anyone\\nStanding in front of me\\nThere's a voice in my ear\\nSees what they're not supposed to see\\nI thought I knew better\\nFeeling like so much more\\nNow that I feel so much better\\nI know that I don't feel any different\\nI've been anxiously staring at walls for days now\\nJust waiting on a reply\\nOh god will you tell me that I'm not just screaming into silence\\nSo I can know when I've tried\\nI don't see anyone\\nStanding in front of me\\nThere's a voice in my ear\\nSays that I'm not all I'm supposed to be\\nAnd all the silence\\nCause I'm the only one asleep\\nIt's all dying down\\nAnd I know cause I don't feel any different\"},\n",
       " '3786764': {'name': 'Untitled',\n",
       "  'url': 'https://genius.com/Snail-mail-untitled-lyrics',\n",
       "  'lyrics': \"I had a dream it was on my ceiling\\nI had a feeling it was in my head\\nIf I walk outside every time it's freezing\\nI have to wonder if it wants me dead again\\nAnd it's not something I can run my hands over\\nIt's not something I can run my hands over\\nIt's not something I can run my hands over\\nIt's not something I can run my hands over\\nI'm not afraid to walk without a way\\nIf I close my eyes I'm scared I'll never get to leave the grey\\nI wanna sleep and never leave my bed\\nAnd then I won't hesitate to call it my friend again\\nAnd it's not something I can run my hands over\\nIt's not something I can run my hands over\\nIt's not something I can run my hands over\\nIt's not something I can run my hands over\\nOh, never sleep again\\nOh, never sleep again\"},\n",
       " '3786766': {'name': 'Ghost',\n",
       "  'url': 'https://genius.com/Snail-mail-ghost-lyrics',\n",
       "  'lyrics': \"Oh, sweet voice\\nWhere have you gone now?\\nI know if it were your choice\\nI would be beside you\\nI am alone in this room\\nThere is no you\\nI am alone in this room\\nDo you feel trapped in being your own shadow\\nI don't see it like that but what would I know\\nI am alone in this room\\nThere is no you\\nI am alone in this room\\nThere is no you\\nGhost in my wall\\nDo you see you wither to no one at all\\nGuide me to nothing\\nTo places where there is no one\\nThe world will lead your body\\nTo create the ground that binds you\\nSo you'll fall above your shoulders\\nAnd now I can't even remind you\\nI am alone in this room\\nThere is no you\\nI am alone in this room\\nThere is no you\\nHeadfirst now\\nGo on turn around\\nLeave it to yourself\\nNo one's gonna help you now\\nHeadfirst now\\nLeave it to yourself\\nNo one's around\\nNo one's gonna help you now\"},\n",
       " '8157418': {'name': 'Feeling Like I Do - Spotify Singles',\n",
       "  'url': 'https://genius.com/Snail-mail-feeling-like-i-do-spotify-singles-lyrics',\n",
       "  'lyrics': \"Come on baby, get me into the car\\nOut on a bender and waiting for you, get me out of the bar\\nI don't feel like staying, I just want something to do\\nI just wanna sleep it off with you, pour me into you\\nCome on baby, get up just to get down\\nOut on a bender and waiting for you, count me out on the town\\nI don't feel like staying, I just want something to do\\nI just wanna sleep it off with you, pour me into you\\nI don't want you feeling like I do, yeah, yeah\\nI just want you twisted with me too, yeah, yeah\\nI don't know what I've been trying to prove, yeah, yeah\\nEvery time I get too fucked to move, yeah, yeah\\nCome on baby, get me into the car\\nOut on a bender and waiting for you, get me out of the bar\\nI don't feel like staying, I just want something to do\\nI just wanna sleep it off with you, pour me into you\\nI don't want you feeling like I do, yeah, yeah\\nI just want you twisted with me too, yeah, yeah\\nI don't know what I've been trying to prove, yeah, yeah\\nEvery time I get too fucked to move, yeah, yeah\\nI don't want you feeling like I do, yeah, yeah\\nI just want you twisted with me too, yeah, yeah\\nI don't know what I've been trying to prove, yeah, yeah\\nEvery time I get too fucked to move, yeah, yeah\"},\n",
       " '3786767': {'name': 'Fluorescent Heights',\n",
       "  'url': 'https://genius.com/Snail-mail-fluorescent-heights-lyrics',\n",
       "  'lyrics': \"Quiet hours\\nNothing now\\nAlways an absence\\nDrowned out\\nWhat if instead\\nNo one hears what's unsaid\\nNo one can take away\\nOnly the blue lights\\nNothing but green sky\\nGlow of the bug light\\nHow they always fly\\nTo fluorescent heights\\nI can't see me in my own my eyes\\nOnly boxes to run and hide\\nFive AM and I know it now\\nI need to find a way out\\nNo one can take away\\nOnly the blue lights\\nNothing but green sky\\nI lose myself every night\\nTo fluorescent heights\\nI want to be alright\\nFluorescent heights\"},\n",
       " '9516810': {'name': '    c. et al. (Demo)',\n",
       "  'url': 'https://genius.com/Snail-mail-c-et-al-demo-lyrics',\n",
       "  'lyrics': \"Never felt older than now\\nWasted, asleep on the couch\\nRoutine as it is, I can start every day\\nAnd I didn't have any time anyhow\\nEven with a job that keeps me movin'\\nMost days I just wanna lie down\\nSleep it away 'til it's nothing and\\nPull the blinds all the way down\\nSunrise, dead of night\\nJust a comedown so early in the morning\\nNo more long drives, least we ended things nice\\nAnd summer's gotta end sometimes\\nOh, Claire\\nJust can't call it quits on me, baby\\nDon't I make you laugh anymore?\\nI'd never try holding you down\\nIn the morning I wish I was yours, yours, yours\\nBaby blue, I'm so behind\\nCan't make sense of the faces in and out of my life\\nWhirlin' above our daily routines\\nBoth buried in problems, baby, honestly\\nWish it'd been you the other night\\nShould've been you, but it's alright\\nFeels like I'm losing my mind, baby blue\\nBut I'd leave it behind if you wanted me to\"},\n",
       " '9516811': {'name': 'Headlock (Demo)',\n",
       "  'url': 'https://genius.com/Snail-mail-headlock-demo-lyrics',\n",
       "  'lyrics': \"Almost think you feel it come on\\nDon't wanna stay up any longer\\nFor you use the sleeping midnight sign\\nGot the plans, can you be more sure?\\nAnd you just wake up one morning\\nNot what you want anymore\\nDrinkin' just to taste her mouth\\nGot you drifting in and out\\nSettle for a moon to blame\\nWhen you just wake up in the morning\\nAnd she don't look at you the same\\nSome girl that you've always been\\nThe fear just grows but lost [?]\\nAnd the [?] get you thin\\nReal princess by my side\\nHope I see her when I die\\nThe devil's got you by the throat\\nIs it death that won't stop callin'?\\nDo you want to leave a note?\\nMan enough to see this through\\nOr is it one more thing I won't get to?\\nDreamt it now I'm superglued\\nAnother world where we're together\\nDo you get lost in it too?\\nAre you lost in it too?\\nAre you lost in it too?\\nAre you lost in it too?\"},\n",
       " '9516809': {'name': 'Automate (Demo)',\n",
       "  'url': 'https://genius.com/Snail-mail-automate-demo-lyrics',\n",
       "  'lyrics': \"One more drink 'til I can feel you\\nAnd when the party's empty, we can dance slow in my room\\nNever like we used to, but you in that green sweater\\nI could die if I had the guts, puked it up, drank too much\\nFeel this good forever\\nAutomate me and I'll never find a love like this\\nI'm free but I'm not having any fun like this\\nWash, rinse, repeat, and I'm sure I know a drug like this\\nStay in my dreams, I'll never ever find a love like this\\nBlank lips, dark room, I pretend it's you\\nBut she kissed like she meant it\\nIt's like I'm living and I'm past her\\nIt's thirteen days after but it still feels like I'm cheating\\nOne more drink 'til I can lay beside you\\nI'm forgetting what you look like\\nAutomate me and I'll never find a love like this\\nI'm free but I'm not having any fun like this\\nWash, rinse, repeat, and I'm sure I know a drug like this\\nStay in my dreams, I'll never find another love like this\"},\n",
       " '8250313': {'name': 'Headlock - Spotify Singles',\n",
       "  'url': 'https://genius.com/Snail-mail-headlock-spotify-singles-lyrics',\n",
       "  'lyrics': \"When did you start seeing her?\\nGuess somebody finally tamed you\\nNever seen you look so sure\\nSorrow snuck into our secret place\\nDrag me with you to Nirvana, baby\\nTake me all the way\\nDrinkin' just to taste her mouth\\nGot you drifting in and out\\nMr. Death wants my baby now\\nFelt the crowd was wrong to claim you\\nWon't they ever quiet down?\\nSomeone's daughter adorned in flames\\nDrag me with you to Nirvana, baby\\nTake me all the way\\nMan enough to see this through\\nMan, I'm nothing without you\\nAh, ah, ah, ah\\nThought I'd see her when I died\\nFilled the bath up with warm water\\nNothing on the other side\\nMan enough to see this through\\nOr is it one more thing I won't get to?\\nCan't go out, I'm tethered to\\nAnother world where we're together\\nAre you lost in it too?\\nAre you lost in it too?\\nAre you lost in it too?\\nAre you lost in it too?\"}}"
      ]
     },
     "execution_count": 33,
     "metadata": {},
     "output_type": "execute_result"
    }
   ],
   "source": [
    "get_all_song_lyrics('Snail Mail')"
   ]
  },
  {
   "cell_type": "markdown",
   "metadata": {},
   "source": [
    "## Misc. Functions\n",
    "\n",
    "We define some helper functions"
   ]
  },
  {
   "cell_type": "markdown",
   "metadata": {},
   "source": [
    "### tokenize_lyrics(lyrics)\n",
    "\n",
    "Take song lyrics in the form output by `get_song_lyrics` and tokenize them, removing unnecessary punctuation"
   ]
  },
  {
   "cell_type": "code",
   "execution_count": 65,
   "metadata": {},
   "outputs": [],
   "source": [
    "TRANSLATION_TABLE = str.maketrans('', '', '!?{}[]()<>,./@#$%^&*_\\\\|`~+=\\\";:')\n",
    "\n",
    "\n",
    "def tokenize_lyrics(lyrics):\n",
    "    lines = [line.split(' ') for line in lyrics.split('\\n')]\n",
    "    tokens = []\n",
    "    for line in lines:\n",
    "        for word in line:\n",
    "            # Remove casing and most punctuation\n",
    "            clean_word = word.casefold().translate(TRANSLATION_TABLE)\n",
    "            clean_word = unidecode(clean_word.strip())\n",
    "\n",
    "            # Remove apostrophes in a reasonable way\n",
    "            if clean_word[-2:] == \"'s\":\n",
    "                clean_word = clean_word[:-2]\n",
    "            if len(clean_word) < 1:\n",
    "                continue\n",
    "            if clean_word[0] == \"'\":\n",
    "                clean_word = clean_word[1:]\n",
    "            if len(clean_word) < 1:\n",
    "                continue\n",
    "            if clean_word[-1] == \"'\":\n",
    "                clean_word = clean_word[:-1]\n",
    "            if len(clean_word) < 1:\n",
    "                continue\n",
    "            # NOTE: I will be counting contractions as separate words, since many\n",
    "            # are a notable part of one's vocabulary (for example, ain't) rather\n",
    "            # than simply a shortening.\n",
    "            \n",
    "            # Remove hyphens from the end and beginning, though\n",
    "            while len(clean_word) > 1 and clean_word[0] == '-':\n",
    "                clean_word = clean_word[1:]\n",
    "            while len(clean_word) > 1 and clean_word[-1] == '-':\n",
    "                clean_word = clean_word[:-1]\n",
    "            if len(clean_word) < 1:\n",
    "                continue\n",
    "            \n",
    "            clean_word = unidecode(clean_word.strip())\n",
    "\n",
    "            tokens.append(clean_word)\n",
    "    return tokens"
   ]
  },
  {
   "cell_type": "markdown",
   "metadata": {},
   "source": [
    "## Stats Functions\n",
    "\n",
    "We define functions related to getting lyrics stats"
   ]
  },
  {
   "cell_type": "markdown",
   "metadata": {},
   "source": [
    "### get_song_stats(song_id, artist_name=None, artist_id=None, print_stats=True)\n",
    "\n",
    "Take a `song_id` with either an `artist_name` or `artist_id` and return their word count and a dictionary with the frequency of each unique word."
   ]
  },
  {
   "cell_type": "code",
   "execution_count": 75,
   "metadata": {},
   "outputs": [],
   "source": [
    "def _get_song_stats(song_lyrics):\n",
    "    with open('our_words.json') as f:\n",
    "        english_dict = json.load(f)\n",
    "    with open('not_words.json') as f:\n",
    "        not_words = json.load(f)\n",
    "    word_dict = {}\n",
    "    for _word in tokenize_lyrics(song_lyrics):\n",
    "        word = unidecode(_word, errors='ignore')\n",
    "        if word in SPANISH_SET:\n",
    "            continue\n",
    "        skip = False\n",
    "        if word in not_words:\n",
    "            continue\n",
    "        # elif word + 'g' in english_dict:\n",
    "        #     # THERE ARE SO MANY WORDS SANS THE FINAL G, IT'S A PAIN\n",
    "        #     # Like \"kissin\" instead of \"kissing\"\n",
    "        #     # We're gonna deal with this once and for all >:(\n",
    "        #     print(f'Caught {word + \"g\"} without a \"g\" >:(')\n",
    "        #     english_dict[word] = word + 'g'\n",
    "        #     with open('our_words.json', 'w+') as f:\n",
    "        #         json.dump(english_dict, f, indent=2)\n",
    "        elif word not in english_dict:\n",
    "            print('\\n')\n",
    "            print(f'Word: |{word}|')\n",
    "            print('(1) New Word')\n",
    "            print('(2) Not a word')\n",
    "            print('(panic) Escape to fix something')\n",
    "            print('(<word>) Same as <word>')\n",
    "            while True:\n",
    "                r = input()\n",
    "                if r == '1':\n",
    "                    print(f'Adding {word} to dictionary')\n",
    "                    english_dict[word] = word\n",
    "                    print(f'{word}: {english_dict[word]}')\n",
    "                    with open('our_words.json', 'w+') as f:\n",
    "                        json.dump(english_dict, f, indent=2)\n",
    "                    break\n",
    "                elif r == '2':\n",
    "                    print(f'Skipping word')\n",
    "                    not_words[word] = word\n",
    "                    with open('not_words.json', 'w+') as f:\n",
    "                        json.dump(not_words, f, indent=2)\n",
    "                    skip = True\n",
    "                    break\n",
    "                elif r == 'panic!':\n",
    "                    raise RuntimeError('Panic! at the tokenization, probably')\n",
    "                else:\n",
    "                    if r not in english_dict:\n",
    "                        print(f'Make {r} a new root?')\n",
    "                        print(f'(1) Yes')\n",
    "                        print(f'(2) No')\n",
    "                        new_root = input()\n",
    "                        if new_root == '1':\n",
    "                            english_dict[r] = r\n",
    "\n",
    "                    if r in english_dict:\n",
    "                        while english_dict[r] != r:\n",
    "                            r = english_dict[r]\n",
    "                        print(f'Adding {word} as alias to {r}')\n",
    "                        english_dict[word] = r\n",
    "                        print(f'{word}: {english_dict[word]}')\n",
    "                        with open('our_words.json', 'w+') as f:\n",
    "                            json.dump(english_dict, f, indent=2)\n",
    "                        break\n",
    "                    else:\n",
    "                        print(f'{r} not in english_dict')\n",
    "        if skip:\n",
    "            continue\n",
    "        true_word = english_dict[word]\n",
    "        word_dict[true_word] = word_dict.get(true_word, 0) + 1\n",
    "    \n",
    "    return word_dict"
   ]
  },
  {
   "cell_type": "code",
   "execution_count": 54,
   "metadata": {},
   "outputs": [],
   "source": [
    "def get_song_stats(song_id, artist_name=None, artist_id=None):\n",
    "    if artist_id is None:\n",
    "        if artist_name is None:\n",
    "            raise ValueError(\n",
    "                'One of artist_id or song_name must be given as an argument')\n",
    "        artist_id = get_artist_id(artist_name)\n",
    "\n",
    "    with open(os.path.join(ROOT_PATH, f'{artist_id}.json')) as f:\n",
    "        artist = json.load(f)\n",
    "    \n",
    "    song_name = artist['songs'][song_id]['name']\n",
    "\n",
    "    if 'word_dict' in artist['songs'][song_id]:\n",
    "        print(\n",
    "            f'Word dict found for {song_name} ({song_id}) in artist JSON at {os.path.join(ROOT_PATH, f\"{artist_id}.json\")}. Returning...')\n",
    "        word_dict = artist['songs'][song_id]['word_dict']\n",
    "    else:\n",
    "        print(\n",
    "            f'Word dict not found for {song_name} ({song_id}) in artist JSON at {os.path.join(ROOT_PATH, f\"{artist_id}.json\")}. Counting...')\n",
    "        if 'lyrics' not in artist['songs'][song_id]:\n",
    "            get_all_song_lyrics(artist_id=artist_id)\n",
    "            with open(os.path.join(ROOT_PATH, f'{artist_id}.json')) as f:\n",
    "                artist = json.load(f)\n",
    "        song_lyrics = artist['songs'][song_id]['lyrics']\n",
    "        word_dict = _get_song_stats(song_lyrics)\n",
    "        artist['songs'][song_id]['word_dict'] = word_dict\n",
    "        with open(os.path.join(ROOT_PATH, f'{artist_id}.json'), 'w+') as f:\n",
    "            print(\n",
    "                f'Writing word dict to artist JSON at {os.path.join(ROOT_PATH, f\"{artist_id}.json\")}.')\n",
    "            json.dump(artist, f, indent=2)\n",
    "\n",
    "    return word_dict"
   ]
  },
  {
   "cell_type": "code",
   "execution_count": 37,
   "metadata": {},
   "outputs": [
    {
     "name": "stdout",
     "output_type": "stream",
     "text": [
      "Getting id for artist Snail Mail\n",
      "Found id for Snail Mail in files/name_to_id.json. Returning...\n",
      "Song list exists in artist JSON at files/1007900.json. Returning...\n",
      "Word dict not found for Deep Sea (3739597) in artist JSON at files/1007900.json. Counting...\n",
      "Writing word dict to artist JSON at files/1007900.json.\n",
      "50 unique words\n",
      "88 total words\n",
      "[('you', 6), ('and', 6), ('it', 5), ('only', 4), ('the', 4), ('down', 3), ('know', 3), ('there', 2), ('breathing', 2), ('we', 2), ('anyone', 2), ('took', 2), ('long', 2), ('someone', 2), ('like', 2), ('age', 2), ('dying', 2), ('sun', 2), ('wake', 2), ('bathe', 2), ('greens', 2), ('deep', 1), ('dive', 1), ('got', 1), ('but', 1), ('stayed', 1), ('alive', 1), ('bends', 1), ('your', 1), ('mind', 1), ('track', 1), ('of', 1), ('sleep', 1), ('with', 1), ('tides', 1), ('die', 1), ('my', 1), ('love', 1), ('breathe', 1), ('twos', 1), ('fours', 1), ('what', 1), ('worth', 1), ('for', 1), ('some', 1), ('days', 1), ('easier', 1), ('than', 1), ('falling', 1), ('asleep', 1)]\n"
     ]
    }
   ],
   "source": [
    "artist_id = get_artist_id('Snail Mail')\n",
    "songs = get_artist_songs(artist_id=artist_id)\n",
    "isongs = iter(songs)\n",
    "next(isongs)\n",
    "next(isongs)\n",
    "next(isongs)\n",
    "next(isongs)\n",
    "next(isongs)\n",
    "next(isongs)\n",
    "next(isongs)\n",
    "song_id = next(isongs)\n",
    "word_dict = get_song_stats(song_id, artist_id=artist_id)\n",
    "print(f'{len(word_dict)} unique words')\n",
    "total_words= sum(word_dict.values())\n",
    "print(f'{total_words} total words')\n",
    "sorted_words = sorted(list(word_dict.items()), key=lambda x: x[1], reverse=True)\n",
    "print(sorted_words)"
   ]
  },
  {
   "cell_type": "markdown",
   "metadata": {},
   "source": [
    "### get_all_stats(artist, print_stats=True)\n",
    "\n",
    "Take an artist name and return their word count, a set with every unique word, and a dictionary with the frequency of each word.\n",
    "\n",
    "For now, this will be a somewhat active process as you will be building up a standard English dictionary.\n",
    "\n",
    "If `print_stats` is `True`, will print word count, number of unique words, and their ratio."
   ]
  },
  {
   "cell_type": "code",
   "execution_count": 40,
   "metadata": {},
   "outputs": [],
   "source": [
    "def get_all_stats(artist_name=None, artist_id=None, print_stats=True):\n",
    "    if artist_id is None:\n",
    "        if artist_name is None:\n",
    "            raise ValueError(\n",
    "                'One of artist_id or song_name must be given as an argument')\n",
    "        artist_id = get_artist_id(artist_name)\n",
    "\n",
    "    songs = get_artist_songs(artist_id=artist_id)\n",
    "    \n",
    "    artist_dict = {}\n",
    "\n",
    "    for song_id in songs:\n",
    "        song_dict = get_song_stats(song_id, artist_id=artist_id)\n",
    "        for word in song_dict:\n",
    "            artist_dict[word] = artist_dict.get(word, 0) + song_dict[word]\n",
    "    \n",
    "    with open(os.path.join(ROOT_PATH, f'{artist_id}.json')) as f:\n",
    "        artist = json.load(f)\n",
    "    \n",
    "    artist['word_dict'] = artist_dict\n",
    "    \n",
    "    with open(os.path.join(ROOT_PATH, f'{artist_id}.json'), 'w+') as f:\n",
    "        artist = json.dump(artist, f, indent=2)\n",
    "    \n",
    "    return artist_dict"
   ]
  },
  {
   "cell_type": "code",
   "execution_count": 48,
   "metadata": {},
   "outputs": [
    {
     "name": "stdout",
     "output_type": "stream",
     "text": [
      "Getting id for artist Snail Mail\n",
      "Found id for Snail Mail in files/name_to_id.json. Returning...\n",
      "Song list exists in artist JSON at files/1007900.json. Returning...\n",
      "Word dict found for Pristine (3595541) in artist JSON at files/1007900.json. Returning...\n",
      "Word dict found for Heat Wave (3678164) in artist JSON at files/1007900.json. Returning...\n",
      "Word dict found for Speaking Terms (3683677) in artist JSON at files/1007900.json. Returning...\n",
      "Word dict found for Thinning (2867874) in artist JSON at files/1007900.json. Returning...\n",
      "Word dict found for Stick (3078104) in artist JSON at files/1007900.json. Returning...\n",
      "Word dict found for Valentine (7191839) in artist JSON at files/1007900.json. Returning...\n",
      "Word dict found for Anytime (3739598) in artist JSON at files/1007900.json. Returning...\n",
      "Word dict found for Deep Sea (3739597) in artist JSON at files/1007900.json. Returning...\n",
      "Word dict found for Full Control (3739596) in artist JSON at files/1007900.json. Returning...\n",
      "Word dict found for Let's Find an Out (3721962) in artist JSON at files/1007900.json. Returning...\n",
      "Word dict found for Ben Franklin (7191843) in artist JSON at files/1007900.json. Returning...\n",
      "Word dict found for Golden Dream (3739595) in artist JSON at files/1007900.json. Returning...\n",
      "Word dict found for The 2nd Most Beautiful Girl in the World (4031369) in artist JSON at files/1007900.json. Returning...\n",
      "Word dict found for Headlock (7191844) in artist JSON at files/1007900.json. Returning...\n",
      "Word dict found for Madonna (7191847) in artist JSON at files/1007900.json. Returning...\n",
      "Word dict found for Forever (Sailing) (7191846) in artist JSON at files/1007900.json. Returning...\n",
      "Word dict found for Mia (7191852) in artist JSON at files/1007900.json. Returning...\n",
      "Word dict found for Slug (3078101) in artist JSON at files/1007900.json. Returning...\n",
      "Word dict found for Light Blue (7191845) in artist JSON at files/1007900.json. Returning...\n",
      "Word dict found for Glory (7191849) in artist JSON at files/1007900.json. Returning...\n",
      "Word dict found for Static Buzz (3078099) in artist JSON at files/1007900.json. Returning...\n",
      "Word dict found for Automate (7191851) in artist JSON at files/1007900.json. Returning...\n",
      "Word dict found for Intro (3683675) in artist JSON at files/1007900.json. Returning...\n",
      "Word dict found for  c. et al. (7191848) in artist JSON at files/1007900.json. Returning...\n",
      "Word dict found for Habit (3078097) in artist JSON at files/1007900.json. Returning...\n",
      "Word dict found for Dirt (3078100) in artist JSON at files/1007900.json. Returning...\n",
      "Word dict found for Easy Thing (9516698) in artist JSON at files/1007900.json. Returning...\n",
      "Word dict found for Adore You (Valentine Demo) (7702696) in artist JSON at files/1007900.json. Returning...\n",
      "Word dict found for Feeling Better (3786765) in artist JSON at files/1007900.json. Returning...\n",
      "Word dict found for Untitled (3786764) in artist JSON at files/1007900.json. Returning...\n",
      "Word dict found for Ghost (3786766) in artist JSON at files/1007900.json. Returning...\n",
      "Word dict found for Feeling Like I Do - Spotify Singles (8157418) in artist JSON at files/1007900.json. Returning...\n",
      "Word dict found for Fluorescent Heights (3786767) in artist JSON at files/1007900.json. Returning...\n",
      "Word dict found for     c. et al. (Demo) (9516810) in artist JSON at files/1007900.json. Returning...\n",
      "Word dict found for Headlock (Demo) (9516811) in artist JSON at files/1007900.json. Returning...\n",
      "Word dict found for Automate (Demo) (9516809) in artist JSON at files/1007900.json. Returning...\n",
      "Word dict found for Headlock - Spotify Singles (8250313) in artist JSON at files/1007900.json. Returning...\n"
     ]
    },
    {
     "data": {
      "text/plain": [
       "827"
      ]
     },
     "execution_count": 48,
     "metadata": {},
     "output_type": "execute_result"
    }
   ],
   "source": [
    "word_dict = get_all_stats(artist_name='Snail Mail')\n",
    "\n",
    "# sorted(list(word_dict.items()), key=lambda x: x[1])\n",
    "\n",
    "len(word_dict)"
   ]
  },
  {
   "cell_type": "markdown",
   "metadata": {},
   "source": [
    "## Last.fm Functions\n",
    "\n",
    "We define some functions using the Last.fm API. These functions will help with looking up top artists and top tags (genres)."
   ]
  },
  {
   "cell_type": "code",
   "execution_count": null,
   "metadata": {},
   "outputs": [],
   "source": [
    "LASTFM_ROOT_URL = 'http://ws.audioscrobbler.com/2.0'\n",
    "LASTFM_API_KEY = '86c0c6cfe8cbb522dc355b223101f16f'"
   ]
  },
  {
   "cell_type": "markdown",
   "metadata": {},
   "source": [
    "### get_tags()\n",
    "\n",
    "Fairly self-explanatory. Uses the Last.fm API to get top global tags.\n",
    "\n",
    "This will likely be used to manually form a list of valid and relevant Last.fm tags, as some may be too specific (like progressive metal (no disrespect to those who enjoy progressive metal!))"
   ]
  },
  {
   "cell_type": "code",
   "execution_count": null,
   "metadata": {},
   "outputs": [],
   "source": [
    "def get_top_tags():\n",
    "    payload = {'api_key': LASTFM_API_KEY,\n",
    "               'method': 'tag.getTopTags',\n",
    "               'format': 'json'}\n",
    "    r = requests.get(LASTFM_ROOT_URL,\n",
    "                     params=payload)\n",
    "    # We sort tags by their reach\n",
    "    tags = sorted([(tag['name'], tag['count']) for tag in r.json()['toptags']['tag']],\n",
    "                  key=lambda x: x[1],\n",
    "                  reverse=True)\n",
    "    # We remove the 'reach' value since we don't care about it besides for sorting\n",
    "    return [tag[0] for tag in tags]"
   ]
  },
  {
   "cell_type": "code",
   "execution_count": null,
   "metadata": {},
   "outputs": [],
   "source": [
    "get_top_tags()"
   ]
  },
  {
   "cell_type": "markdown",
   "metadata": {},
   "source": [
    "### get_top_artists(tag, limit)\n",
    "\n",
    "Gets the top `limit` artists with the tag `tag`. I recommend doing more than you need in order to select an appropriate artist pool (those who all sing in the same language, so as to make vocabulary size comparison easier and meaningful)"
   ]
  },
  {
   "cell_type": "code",
   "execution_count": null,
   "metadata": {},
   "outputs": [],
   "source": [
    "def get_top_artists(tag, limit):\n",
    "    payload = {'api_key': '86c0c6cfe8cbb522dc355b223101f16f',\n",
    "               'method': 'tag.gettopartists',\n",
    "               'tag': tag,\n",
    "               'limit': limit,\n",
    "               'format': 'json'}\n",
    "    r = requests.get(LASTFM_ROOT_URL,\n",
    "                     params=payload)\n",
    "    artists = [artist['name'] for artist in r.json()['topartists']['artist']]\n",
    "    return artists"
   ]
  },
  {
   "cell_type": "code",
   "execution_count": null,
   "metadata": {
    "tags": []
   },
   "outputs": [],
   "source": [
    "get_top_artists('pop', '100')"
   ]
  },
  {
   "cell_type": "markdown",
   "metadata": {
    "id": "g-B13hpMcV5t"
   },
   "source": [
    "## Lists of Favorite Artists\n",
    "\n",
    "Here we define the lists of mine and Siena's favorite artists to use to test our methods."
   ]
  },
  {
   "cell_type": "code",
   "execution_count": 63,
   "metadata": {
    "id": "Ynmp0PExcgNe"
   },
   "outputs": [],
   "source": [
    "joan_artists = ['Snail Mail', 'Alvvays', 'Indigo de Souza']\n",
    "\n",
    "siena_artists = ['Bastille', 'Hozier', 'The Amazing Devil']"
   ]
  },
  {
   "cell_type": "markdown",
   "metadata": {
    "id": "2uPrDHuvookY"
   },
   "source": [
    "## Sample Workflow\n",
    "\n",
    "Here's a sample workflow for using these tools, using `joan_artists` and `siena_artists`"
   ]
  },
  {
   "cell_type": "code",
   "execution_count": 78,
   "metadata": {
    "colab": {
     "base_uri": "https://localhost:8080/",
     "height": 681
    },
    "id": "mWZIcGOWoxWZ",
    "outputId": "089d2051-3db9-4e5c-93c9-39ba4cf2ca72",
    "tags": []
   },
   "outputs": [
    {
     "name": "stdout",
     "output_type": "stream",
     "text": [
      "Getting id for artist Bastille\n",
      "Found id for Bastille in files/name_to_id.json. Returning...\n",
      "Song list exists in artist JSON at files/43324.json. Returning...\n",
      "Word dict found for Pompeii (133381) in artist JSON at files/43324.json. Returning...\n",
      "Word dict found for Good Grief (2493550) in artist JSON at files/43324.json. Returning...\n",
      "Word dict found for No Angels (OPH2) (192700) in artist JSON at files/43324.json. Returning...\n",
      "Word dict found for Send Them Off! (2385635) in artist JSON at files/43324.json. Returning...\n",
      "Word dict found for Doom Days (4343485) in artist JSON at files/43324.json. Returning...\n",
      "Word dict found for Oblivion (259115) in artist JSON at files/43324.json. Returning...\n",
      "Word dict found for World Gone Mad (3306077) in artist JSON at files/43324.json. Returning...\n",
      "Word dict found for Fake It (2797664) in artist JSON at files/43324.json. Returning...\n",
      "Word dict found for Quarter Past Midnight (3689474) in artist JSON at files/43324.json. Returning...\n",
      "Word dict found for Glory (2838643) in artist JSON at files/43324.json. Returning...\n",
      "Word dict found for Warmth (2493628) in artist JSON at files/43324.json. Returning...\n",
      "Word dict found for Icarus (343324) in artist JSON at files/43324.json. Returning...\n",
      "Word dict found for Blame (2278652) in artist JSON at files/43324.json. Returning...\n",
      "Word dict found for Things We Lost in the Fire (191266) in artist JSON at files/43324.json. Returning...\n",
      "Word dict found for The Currents (2452045) in artist JSON at files/43324.json. Returning...\n",
      "Word dict found for Flaws (261175) in artist JSON at files/43324.json. Returning...\n",
      "Word dict found for Bad Blood (201672) in artist JSON at files/43324.json. Returning...\n",
      "Word dict found for Joy (4521333) in artist JSON at files/43324.json. Returning...\n",
      "Word dict found for What Would You Do? (212722) in artist JSON at files/43324.json. Returning...\n",
      "Word dict found for The Anchor (2838769) in artist JSON at files/43324.json. Returning...\n",
      "Word dict found for Another Place (4522126) in artist JSON at files/43324.json. Returning...\n",
      "Word dict found for Four Walls (The Ballad of Perry Smith) (2838763) in artist JSON at files/43324.json. Returning...\n",
      "Word dict found for Laura Palmer (147301) in artist JSON at files/43324.json. Returning...\n",
      "Word dict found for Two Evils (2486612) in artist JSON at files/43324.json. Returning...\n",
      "Word dict found for Lethargy (2838762) in artist JSON at files/43324.json. Returning...\n",
      "Word dict found for 4AM (3792448) in artist JSON at files/43324.json. Returning...\n",
      "Word dict found for Those Nights (4522334) in artist JSON at files/43324.json. Returning...\n",
      "Word dict found for Power (2450271) in artist JSON at files/43324.json. Returning...\n",
      "Word dict found for Daniel in the Den (349754) in artist JSON at files/43324.json. Returning...\n",
      "Word dict found for Of The Night (288840) in artist JSON at files/43324.json. Returning...\n",
      "Word dict found for Weight of Living, Pt. I (349752) in artist JSON at files/43324.json. Returning...\n",
      "Word dict found for Snakes (2264850) in artist JSON at files/43324.json. Returning...\n",
      "Word dict found for An Act of Kindness (2838632) in artist JSON at files/43324.json. Returning...\n",
      "Word dict found for Oil on Water (2450270) in artist JSON at files/43324.json. Returning...\n",
      "Word dict found for Million Pieces (4141585) in artist JSON at files/43324.json. Returning...\n",
      "Word dict found for Bad Decisions (4521339) in artist JSON at files/43324.json. Returning...\n",
      "Word dict found for Way Beyond (2838766) in artist JSON at files/43324.json. Returning...\n",
      "Word dict found for Winter of Our Youth (2838765) in artist JSON at files/43324.json. Returning...\n",
      "Word dict found for The Waves (4521340) in artist JSON at files/43324.json. Returning...\n",
      "Word dict found for Laughter Lines (349707) in artist JSON at files/43324.json. Returning...\n",
      "Word dict found for  survivin' (5985497) in artist JSON at files/43324.json. Returning...\n",
      "Word dict found for Hangin' (2155817) in artist JSON at files/43324.json. Returning...\n",
      "Word dict found for Divide (4521341) in artist JSON at files/43324.json. Returning...\n",
      "Word dict found for The Draw (333817) in artist JSON at files/43324.json. Returning...\n",
      "Word dict found for WHAT YOU GONNA DO??? (5815666) in artist JSON at files/43324.json. Returning...\n",
      "Word dict found for Campus (2283712) in artist JSON at files/43324.json. Returning...\n",
      "Popular words: [('your', 156), ('of', 168), ('a', 178), ('we', 194), ('my', 258), ('and', 318), ('it', 400), ('i', 436), ('you', 581), ('the', 614)]\n",
      "Unpopular words: [('devices', 1), ('vices', 1), ('settled', 1), ('maniacs', 1), ('shut', 1), ('count', 1), ('crystallizing', 1), ('guard', 1), ('sleeping', 1), ('clothes', 1), ('such', 1), ('jungle', 1), ('worrying', 1), ('dressed', 1), ('senses', 1), ('fool', 1), ('office', 1), ('tend', 1), ('cabins', 1), ('grounds', 1), ('errands', 1), ('allows', 1), ('capable', 1), ('thinks', 1), ('fly', 1), ('also', 1), ('known', 1), ('arse', 1), ('checking', 1), ('kinda', 1), ('weak', 1), ('approach', 1), ('class', 1), ('trash', 1), ('deadbeat', 1), ('ass', 1), ('shorty', 1), ('clamped', 1), ('deliberately', 1), ('step', 1), ('slight', 1), ('deserved', 1), ('brilliant', 1), ('demons', 1), ('insecurities', 1), ('healing', 1), ('clean', 1), ('soak', 1), ('ropes', 1), ('holy', 1), ('desdemona', 1), ('liberate', 1), ('haunted', 1), ('ancient', 1), ('darkest', 1), ('compel', 1), ('anyone', 1), ('exists', 1), ('altogether', 1), ('feelings', 1), ('simply', 1), ('defined', 1), ('kool-aid', 1), ('cruising', 1), ('couple', 1), ('perfect', 1), ('portraits', 1), ('attic', 1), ('offline', 1), ('comments', 1), ('house', 1), ('planet', 1), ('deny', 1), ('addicted', 1), ('scrolling', 1), ('live-streaming', 1), ('rome', 1), ('tab', 1), ('pornographic', 1), ('bored', 1), ('questionable', 1), ('choices', 1), ('voice', 1), ('chamber', 1), ('blue', 1), ('curtains', 1), ('flip', 1), ('proud', 1), ('remainers', 1), ('peter', 1), ('fade', 1), ('close-up', 1), ('naive', 1), ('asleep', 1), ('shoulder', 1), ('deeper', 1), ('follow', 1), ('microphone', 1), ('finding', 1), ('himself', 1), ('which', 1), ('selfish', 1), ('develop', 1), ('stopped', 1), ('melt', 1), ('wax', 1), ('jokes', 1), ('knocking', 1), ('laying', 1), ('point', 1), ('reliving', 1), ('crimes', 1), ('flower', 1), ('disarray', 1), ('mistake', 1), ('restore', 1), ('pride', 1), ('sharing', 1), ('scars', 1), ('prove', 1), ('streets', 1), ('restless', 1), ('sirens', 1), ('mending', 1), ('hearts', 1), ('losers', 1), ('seats', 1), ('avoiding', 1), ('tomorrow', 1), ('speakers', 1), ('billboards', 1), ('underneath', 1), ('twelve', 1), ('secrets', 1), ('flowing', 1), ('looser', 1), ('middle', 1), ('counting', 1), ('flew', 1), ('inconceivable', 1), ('imagining', 1), ('rights', 1), ('laugh', 1), ('any', 1), ('choke', 1), ('admit', 1), ('pulled', 1), ('event', 1), ('happens', 1), ('remain', 1), ('circus-like', 1), ('less', 1), ('responsible', 1), ('conventional', 1), ('ethical', 1), ('practices', 1), ('ugly', 1), ('seeing', 1), ('tv', 1), ('helpless', 1), ('searching', 1), ('door', 1), ('emotion', 1), ('blinkers', 1), ('both', 1), ('deafen', 1), ('moment', 1), ('hours', 1), ('alive', 1), ('seconds', 1), ('digging', 1), ('within', 1), ('doorstep', 1), ('paper', 1), ('acting', 1), ('fears', 1), ('cliff', 1), ('highest', 1), ('scares', 1), ('tells', 1), ('defences', 1), ('putting', 1), ('armour', 1), ('fishes', 1), ('wrap', 1), ('teeth', 1), ('pavement', 1), ('message', 1), ('send', 1), ('regards', 1), ('granted', 1), ('wishes', 1), ('goodbye', 1), ('father', 1), ('sitting', 1), ('next', 1), ('beats', 1), ('amassed', 1), ('shattered', 1), ('ash', 1), ('list', 1), ('backs', 1), ('ticket', 1), ('stubs', 1), ('diaries', 1), ('loneliness', 1), ('came', 1), ('match', 1), ('watched', 1), ('burned', 1), ('pyre', 1), ('licked', 1), ('turned', 1), ('adored', 1), ('cigarette', 1), ('using', 1), ('takes', 1), ('stub', 1), ('awaits', 1), ('serious', 1), ('scary', 1), ('points', 1), ('crazies', 1), ('preaches', 1), ('disunity', 1), ('pit', 1), ('seeks', 1), ('freedom', 1), ('inherited', 1), ('pass', 1), ('exhumed', 1), ('doomed', 1), ('park', 1), ('insane', 1), ('friendship', 1), ('resentment', 1), ('grows', 1), ('waking', 1), ('kitchen', 1), ('broken', 1), ('brings', 1), ('wreckage', 1), ('clearing', 1), ('self-pity', 1), ('poor', 1), (\"wouldn't\", 1), ('dissolves', 1), ('frame', 1), ('relief', 1), ('saved', 1), ('girls', 1), ('story', 1), ('saturday', 1), ('liquor', 1), ('overflowing', 1), ('five', 1), ('six', 1), ('strippers', 1), ('buck', 1), ('londi', 1), ('went', 1), ('cash', 1), ('guess', 1), ('since', 1), ('baby', 1), ('stared', 1), ('square', 1), ('sister', 1), ('teenager', 1), ('shit', 1), ('explain', 1), ('lit', 1), ('happening', 1), ('fools', 1), ('alarms', 1), ('parties', 1), ('static', 1), ('bound', 1), ('replace', 1), (\"sun'll\", 1), ('rise', 1), ('special', 1), ('catch', 1), ('mirror', 1), ('kiss', 1), ('contain', 1), ('supposed', 1), ('save', 1), ('rope', 1), ('hang', 1), ('collect', 1), ('kansas', 1), ('state', 1), ('penitentiary', 1), ('brought', 1), ('difficult', 1), ('cutting', 1), ('cast', 1), ('breezes', 1), ('blew', 1), ('drawing', 1), ('terrifying', 1), ('bullet', 1), ('tricking', 1), ('winner', 1), ('loser', 1), ('plain', 1), ('careful', 1), ('lethargy', 1), ('itchy', 1), (\"c'mon\", 1), ('englishman', 1), ('space', 1), ('awe', 1), ('non-believers', 1), ('met', 1), ('blanket', 1), ('smoke', 1), ('skips', 1), ('balloon', 1), ('hits', 1), ('losing', 1), (\"tuesday'll\", 1), ('stuck', 1), ('hairs', 1), ('chemically', 1), ('t-shirt', 1), ('across', 1), ('aim', 1), ('shot', 1), ('simplicity', 1), ('synapses', 1), ('brains', 1), ('achilles', 1), ('knock', 1), ('blows', 1), ('dreaming', 1), ('no', 1), ('means', 1), ('shackles', 1), ('dream', 1), ('claim', 1), ('dancer', 1), ('companion', 1), ('lift', 1), ('join', 1), ('sunshine', 1), ('babe', 1), ('ease', 1), ('teach', 1), (\"there'll\", 1), ('yearn', 1), ('tears', 1), ('please', 1), ('reason', 1), ('repent', 1), ('neck', 1), ('become', 1), ('stepping', 1), ('forward', 1), ('shrugging', 1), ('memory', 1), ('though', 1), ('soaring', 1), ('shall', 1), ('biting', 1), ('worries', 1), ('refuse', 1), ('kicking', 1), ('struggling', 1), ('woman', 1), ('minds', 1), ('steady', 1), (\"they'll\", 1), ('holds', 1), ('ache', 1), ('overflow', 1), ('glass', 1), ('warmed', 1), ('wanting', 1), ('however', 1), ('small', 1), ('reach', 1), ('everyday', 1), ('themselves', 1), ('documented', 1), ('reaching', 1), ('modern', 1), ('legs', 1), ('wrapped', 1), ('leaving', 1), ('crumbs', 1), ('turns', 1), ('literature', 1), ('writing', 1), ('awkward', 1), ('games', 1), ('warm', 1), ('affection', 1), ('runs', 1), ('word', 1), ('screens', 1), ('breathe', 1), ('speak', 1), ('bitter', 1), ('beat', 1), ('clown', 1), ('drill', 1), ('drown', 1), ('drowns', 1), ('loathing', 1), ('london', 1), ('lower', 1), ('sterling', 1), ('groundhog', 1), ('kubrick', 1), ('hollywood', 1), ('animals', 1), ('cages', 1), ('raining', 1), ('folded', 1), ('panic', 1), ('rises', 1), ('oceans', 1), ('flicking', 1), ('stations', 1), ('post', 1), ('happen', 1), ('movies', 1), ('difference', 1), ('viewers', 1), ('choice', 1), ('tragedy', 1), ('safety', 1), ('comfort', 1), ('rooms', 1), ('victims', 1), ('respond', 1), ('while', 1), ('shock', 1), ('grow', 1), ('behave', 1), ('child', 1), ('rid', 1), ('leftovers', 1), ('childish', 1), ('behavior', 1), ('youth', 1), ('prepared', 1), ('glorify', 1), (\"wasn't\", 1), ('bathe', 1), ('staring', 1), ('barrel', 1), ('hundred', 1), ('tons', 1), ('escaping', 1), ('suddenly', 1), ('twilight', 1), ('zone', 1), ('playing', 1), ('slow', 1), ('ribbon', 1), ('arm', 1), ('apocalypse', 1), ('nihilism', 1), ('swim', 1), ('hey', 1), ('earth', 1), ('tree', 1), ('birth', 1), ('traced', 1), ('its', 1), ('brushed', 1), ('centuries', 1), ('changes', 1), ('memories', 1), ('mapped', 1), ('seven-year', 1), ('white-knuckle', 1), ('killing', 1), ('hallelujah', 1), ('em', 1), ('thunder', 1), ('cloud', 1), ('november', 1), ('black', 1), ('dog', 1), ('trynna', 1), ('stream', 1), ('daydream', 1), ('crash', 1), ('vanilla', 1), ('experts', 1), ('stringing', 1), ('matter', 1), ('branches', 1), ('hair', 1), ('unhelpful', 1), ('catches', 1), ('unaware', 1), ('spirit', 1), (\"you'd\", 1), ('rest', 1), ('cheek', 1), ('sadness', 1), ('glamorize', 1), ('madly', 1), ('grass', 1), ('wilder', 1), ('despair', 1), ('drifting', 1), ('rings', 1), ('scared', 1), ('fair', 1), ('johnny', 1), ('train', 1), ('takin', 1), ('shiny', 1), ('rotten', 1), ('sally', 1), ('says', 1), ('happy', 1), ('online', 1), ('field', 1), ('tall', 1), ('papers', 1), ('crowded', 1), ('theses', 1), ('research', 1), ('taking', 1), ('theory', 1), ('steal', 1), ('knowing', 1), ('keeping', 1)]\n",
      "Unique Words: 1271\n",
      "Total Words: 12336\n",
      "Ratio: 0.10303177691309987\n",
      "Getting id for artist Hozier\n",
      "Found id for Hozier in files/name_to_id.json. Returning...\n",
      "Song list exists in artist JSON at files/73910.json. Returning...\n",
      "Word dict found for Take Me to Church (226866) in artist JSON at files/73910.json. Returning...\n",
      "Word dict found for From Eden (387652) in artist JSON at files/73910.json. Returning...\n",
      "Word dict found for Work Song (375341) in artist JSON at files/73910.json. Returning...\n",
      "Word dict found for Almost (Sweet Music) (4234640) in artist JSON at files/73910.json. Returning...\n",
      "Word dict found for Nina Cried Power (3928285) in artist JSON at files/73910.json. Returning...\n",
      "Word dict found for Eat Your Young (8857219) in artist JSON at files/73910.json. Returning...\n",
      "Word dict not found for Someone New (522493) in artist JSON at files/73910.json. Counting...\n",
      "\n",
      "\n",
      "Word: |electin|\n",
      "(1) New Word\n",
      "(2) Not a word\n",
      "(panic) Escape to fix something\n",
      "(<word>) Same as <word>\n"
     ]
    },
    {
     "ename": "RuntimeError",
     "evalue": "Panic! at the tokenization, probably",
     "output_type": "error",
     "traceback": [
      "\u001b[0;31m---------------------------------------------------------------------------\u001b[0m",
      "\u001b[0;31mRuntimeError\u001b[0m                              Traceback (most recent call last)",
      "\u001b[1;32m/Users/joanchirinos/Desktop/dev/LyricsDataScienceStuff/Lyrical_Analysis.ipynb Cell 56\u001b[0m line \u001b[0;36m2\n\u001b[1;32m      <a href='vscode-notebook-cell:/Users/joanchirinos/Desktop/dev/LyricsDataScienceStuff/Lyrical_Analysis.ipynb#Y106sZmlsZQ%3D%3D?line=0'>1</a>\u001b[0m \u001b[39mfor\u001b[39;00m artist_name \u001b[39min\u001b[39;00m siena_artists:\n\u001b[0;32m----> <a href='vscode-notebook-cell:/Users/joanchirinos/Desktop/dev/LyricsDataScienceStuff/Lyrical_Analysis.ipynb#Y106sZmlsZQ%3D%3D?line=1'>2</a>\u001b[0m     word_dict \u001b[39m=\u001b[39m get_all_stats(artist_name\u001b[39m=\u001b[39;49martist_name)\n\u001b[1;32m      <a href='vscode-notebook-cell:/Users/joanchirinos/Desktop/dev/LyricsDataScienceStuff/Lyrical_Analysis.ipynb#Y106sZmlsZQ%3D%3D?line=2'>3</a>\u001b[0m     unique_word_count \u001b[39m=\u001b[39m \u001b[39mlen\u001b[39m(word_dict)\n\u001b[1;32m      <a href='vscode-notebook-cell:/Users/joanchirinos/Desktop/dev/LyricsDataScienceStuff/Lyrical_Analysis.ipynb#Y106sZmlsZQ%3D%3D?line=3'>4</a>\u001b[0m     total_word_count \u001b[39m=\u001b[39m \u001b[39msum\u001b[39m(word_dict\u001b[39m.\u001b[39mvalues())\n",
      "\u001b[1;32m/Users/joanchirinos/Desktop/dev/LyricsDataScienceStuff/Lyrical_Analysis.ipynb Cell 56\u001b[0m line \u001b[0;36m1\n\u001b[1;32m     <a href='vscode-notebook-cell:/Users/joanchirinos/Desktop/dev/LyricsDataScienceStuff/Lyrical_Analysis.ipynb#Y106sZmlsZQ%3D%3D?line=9'>10</a>\u001b[0m artist_dict \u001b[39m=\u001b[39m {}\n\u001b[1;32m     <a href='vscode-notebook-cell:/Users/joanchirinos/Desktop/dev/LyricsDataScienceStuff/Lyrical_Analysis.ipynb#Y106sZmlsZQ%3D%3D?line=11'>12</a>\u001b[0m \u001b[39mfor\u001b[39;00m song_id \u001b[39min\u001b[39;00m songs:\n\u001b[0;32m---> <a href='vscode-notebook-cell:/Users/joanchirinos/Desktop/dev/LyricsDataScienceStuff/Lyrical_Analysis.ipynb#Y106sZmlsZQ%3D%3D?line=12'>13</a>\u001b[0m     song_dict \u001b[39m=\u001b[39m get_song_stats(song_id, artist_id\u001b[39m=\u001b[39;49martist_id)\n\u001b[1;32m     <a href='vscode-notebook-cell:/Users/joanchirinos/Desktop/dev/LyricsDataScienceStuff/Lyrical_Analysis.ipynb#Y106sZmlsZQ%3D%3D?line=13'>14</a>\u001b[0m     \u001b[39mfor\u001b[39;00m word \u001b[39min\u001b[39;00m song_dict:\n\u001b[1;32m     <a href='vscode-notebook-cell:/Users/joanchirinos/Desktop/dev/LyricsDataScienceStuff/Lyrical_Analysis.ipynb#Y106sZmlsZQ%3D%3D?line=14'>15</a>\u001b[0m         artist_dict[word] \u001b[39m=\u001b[39m artist_dict\u001b[39m.\u001b[39mget(word, \u001b[39m0\u001b[39m) \u001b[39m+\u001b[39m song_dict[word]\n",
      "\u001b[1;32m/Users/joanchirinos/Desktop/dev/LyricsDataScienceStuff/Lyrical_Analysis.ipynb Cell 56\u001b[0m line \u001b[0;36m2\n\u001b[1;32m     <a href='vscode-notebook-cell:/Users/joanchirinos/Desktop/dev/LyricsDataScienceStuff/Lyrical_Analysis.ipynb#Y106sZmlsZQ%3D%3D?line=22'>23</a>\u001b[0m         artist \u001b[39m=\u001b[39m json\u001b[39m.\u001b[39mload(f)\n\u001b[1;32m     <a href='vscode-notebook-cell:/Users/joanchirinos/Desktop/dev/LyricsDataScienceStuff/Lyrical_Analysis.ipynb#Y106sZmlsZQ%3D%3D?line=23'>24</a>\u001b[0m song_lyrics \u001b[39m=\u001b[39m artist[\u001b[39m'\u001b[39m\u001b[39msongs\u001b[39m\u001b[39m'\u001b[39m][song_id][\u001b[39m'\u001b[39m\u001b[39mlyrics\u001b[39m\u001b[39m'\u001b[39m]\n\u001b[0;32m---> <a href='vscode-notebook-cell:/Users/joanchirinos/Desktop/dev/LyricsDataScienceStuff/Lyrical_Analysis.ipynb#Y106sZmlsZQ%3D%3D?line=24'>25</a>\u001b[0m word_dict \u001b[39m=\u001b[39m _get_song_stats(song_lyrics)\n\u001b[1;32m     <a href='vscode-notebook-cell:/Users/joanchirinos/Desktop/dev/LyricsDataScienceStuff/Lyrical_Analysis.ipynb#Y106sZmlsZQ%3D%3D?line=25'>26</a>\u001b[0m artist[\u001b[39m'\u001b[39m\u001b[39msongs\u001b[39m\u001b[39m'\u001b[39m][song_id][\u001b[39m'\u001b[39m\u001b[39mword_dict\u001b[39m\u001b[39m'\u001b[39m] \u001b[39m=\u001b[39m word_dict\n\u001b[1;32m     <a href='vscode-notebook-cell:/Users/joanchirinos/Desktop/dev/LyricsDataScienceStuff/Lyrical_Analysis.ipynb#Y106sZmlsZQ%3D%3D?line=26'>27</a>\u001b[0m \u001b[39mwith\u001b[39;00m \u001b[39mopen\u001b[39m(os\u001b[39m.\u001b[39mpath\u001b[39m.\u001b[39mjoin(ROOT_PATH, \u001b[39mf\u001b[39m\u001b[39m'\u001b[39m\u001b[39m{\u001b[39;00martist_id\u001b[39m}\u001b[39;00m\u001b[39m.json\u001b[39m\u001b[39m'\u001b[39m), \u001b[39m'\u001b[39m\u001b[39mw+\u001b[39m\u001b[39m'\u001b[39m) \u001b[39mas\u001b[39;00m f:\n",
      "\u001b[1;32m/Users/joanchirinos/Desktop/dev/LyricsDataScienceStuff/Lyrical_Analysis.ipynb Cell 56\u001b[0m line \u001b[0;36m4\n\u001b[1;32m     <a href='vscode-notebook-cell:/Users/joanchirinos/Desktop/dev/LyricsDataScienceStuff/Lyrical_Analysis.ipynb#Y106sZmlsZQ%3D%3D?line=43'>44</a>\u001b[0m     \u001b[39mbreak\u001b[39;00m\n\u001b[1;32m     <a href='vscode-notebook-cell:/Users/joanchirinos/Desktop/dev/LyricsDataScienceStuff/Lyrical_Analysis.ipynb#Y106sZmlsZQ%3D%3D?line=44'>45</a>\u001b[0m \u001b[39melif\u001b[39;00m r \u001b[39m==\u001b[39m \u001b[39m'\u001b[39m\u001b[39mpanic!\u001b[39m\u001b[39m'\u001b[39m:\n\u001b[0;32m---> <a href='vscode-notebook-cell:/Users/joanchirinos/Desktop/dev/LyricsDataScienceStuff/Lyrical_Analysis.ipynb#Y106sZmlsZQ%3D%3D?line=45'>46</a>\u001b[0m     \u001b[39mraise\u001b[39;00m \u001b[39mRuntimeError\u001b[39;00m(\u001b[39m'\u001b[39m\u001b[39mPanic! at the tokenization, probably\u001b[39m\u001b[39m'\u001b[39m)\n\u001b[1;32m     <a href='vscode-notebook-cell:/Users/joanchirinos/Desktop/dev/LyricsDataScienceStuff/Lyrical_Analysis.ipynb#Y106sZmlsZQ%3D%3D?line=46'>47</a>\u001b[0m \u001b[39melse\u001b[39;00m:\n\u001b[1;32m     <a href='vscode-notebook-cell:/Users/joanchirinos/Desktop/dev/LyricsDataScienceStuff/Lyrical_Analysis.ipynb#Y106sZmlsZQ%3D%3D?line=47'>48</a>\u001b[0m     \u001b[39mif\u001b[39;00m r \u001b[39mnot\u001b[39;00m \u001b[39min\u001b[39;00m english_dict:\n",
      "\u001b[0;31mRuntimeError\u001b[0m: Panic! at the tokenization, probably"
     ]
    }
   ],
   "source": [
    "for artist_name in siena_artists:\n",
    "    word_dict = get_all_stats(artist_name=artist_name)\n",
    "    unique_word_count = len(word_dict)\n",
    "    total_word_count = sum(word_dict.values())\n",
    "\n",
    "    sorted_words = sorted(word_dict.items(), key=lambda x: x[1])\n",
    "    print(f'Popular words: {sorted_words[-10:]}')\n",
    "    print(f'Unpopular words: {[word for word in sorted_words if word[1] == min([x[1] for x in sorted_words])]}')\n",
    "\n",
    "    print(f'Unique Words: {unique_word_count}')\n",
    "    print(f'Total Words: {total_word_count}')\n",
    "    print(f'Ratio: {unique_word_count / total_word_count}')"
   ]
  },
  {
   "cell_type": "code",
   "execution_count": null,
   "metadata": {},
   "outputs": [],
   "source": [
    "get_top_tags()"
   ]
  },
  {
   "cell_type": "code",
   "execution_count": null,
   "metadata": {},
   "outputs": [],
   "source": [
    "get_top_artists('alternative', 100)"
   ]
  }
 ],
 "metadata": {
  "colab": {
   "provenance": []
  },
  "kernelspec": {
   "display_name": "Python 3 (ipykernel)",
   "language": "python",
   "name": "python3"
  },
  "language_info": {
   "codemirror_mode": {
    "name": "ipython",
    "version": 3
   },
   "file_extension": ".py",
   "mimetype": "text/x-python",
   "name": "python",
   "nbconvert_exporter": "python",
   "pygments_lexer": "ipython3",
   "version": "3.10.8"
  }
 },
 "nbformat": 4,
 "nbformat_minor": 4
}
